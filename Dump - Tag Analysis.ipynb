{
 "cells": [
  {
   "cell_type": "code",
   "execution_count": 11,
   "metadata": {},
   "outputs": [],
   "source": [
    "# basic operations\n",
    "import numpy as np\n",
    "import pandas as pd\n",
    "\n",
    "# Plotly\n",
    "import plotly.express as px\n",
    "import plotly.graph_objects as go\n",
    "\n",
    "# SQL\n",
    "%run -i \"Query_Function.py\""
   ]
  },
  {
   "cell_type": "code",
   "execution_count": 89,
   "metadata": {},
   "outputs": [],
   "source": [
    "# helper functions\n",
    "\n",
    "def rev_stat(tag_col, f, df):\n",
    "    mask = tag_col>0\n",
    "    rev = df.loc[mask,'Royalties']\n",
    "    return f(rev)\n",
    "\n",
    "def generate_df_tags(df):\n",
    "    # Generate tag stats\n",
    "    stats = {}\n",
    "    stats['Count'] = df.iloc[:,5:].apply(rev_stat, args=[len, df])\n",
    "    stats['Median'] = df.iloc[:,5:].apply(rev_stat, args=[np.median, df])\n",
    "    stats['Mean'] = df.iloc[:,5:].apply(rev_stat, args=[np.mean, df])\n",
    "    stats['Sum'] = df.iloc[:,5:].apply(rev_stat, args=[np.sum, df])\n",
    "    stats['STD'] = df.iloc[:,5:].apply(rev_stat, args=[np.std, df])\n",
    "\n",
    "    # Save to a df\n",
    "    df_tags = pd.DataFrame(stats)\n",
    "    df_tags.index.name = 'Tag'\n",
    "    df_tags = df_tags.reset_index()\n",
    "    \n",
    "    return df_tags\n",
    "\n",
    "def query_tag(df, tag):\n",
    "    mask = df[tag]>0\n",
    "    return df[mask]\n",
    "\n",
    "# Generate a dataframe for analysis\n",
    "def pipeline(df, country_in, country_out, horizen):\n",
    "    \n",
    "    # horizen = -1 means taking the whole horizen\n",
    "    if horizen == -1:\n",
    "        horizen = pd.Timedelta(99999, unit='M')\n",
    "    else:\n",
    "        horizen = pd.Timedelta(horizen, unit='M') \n",
    "    \n",
    "    # Filter by country\n",
    "    mask = df['Country_of_origin'].isin(country_in) & df['Country_of_market'].isin(country_out)\n",
    "    df = df[mask]\n",
    "    \n",
    "    # Filter by horizen\n",
    "    df_temp = df.groupby(['Mama_id','Movie_id','Title','Country_of_origin', 'Country_of_market'])\n",
    "    mask = df_temp['Date'].apply(lambda x:(x - min(x))<=horizen)\n",
    "    df = df[mask]\n",
    "    \n",
    "    # Aggregate by country\n",
    "    df = df.groupby(['Mama_id','Movie_id','Title','Country_of_origin', 'Country_of_market']).sum()\n",
    "    df = df.reset_index().set_index('Mama_id')\n",
    "\n",
    "    # Merge with tags\n",
    "    df = df.merge(tags,left_index=True, right_index=True, how='left')\n",
    "   \n",
    "    # Generate a df for EDA\n",
    "    df_tags = generate_df_tags(df)\n",
    "    return df, df_tags"
   ]
  },
  {
   "cell_type": "code",
   "execution_count": 13,
   "metadata": {},
   "outputs": [],
   "source": [
    "# Load revenue data by day\n",
    "query = '''\n",
    "SELECT s.Movie_id AS Movie_id, \n",
    "       m.Mama_id AS Mama_id,\n",
    "       m.Title AS Title,\n",
    "       m.Nationality AS Country_of_origin,\n",
    "       s.Country AS Country_of_market,\n",
    "       s.Royalties AS Royalties,\n",
    "       s.Date AS Date\n",
    "\n",
    "FROM (SELECT SUM(s.royalties_paid) AS Royalties,\n",
    "             s.movie_metadata_id AS Movie_id,\n",
    "             u.country_name AS Country,\n",
    "             d.date_value AS Date\n",
    "\n",
    "     FROM fact_sales AS s\n",
    "     INNER JOIN dim_user as u\n",
    "     ON s.user_id = u.user_id\n",
    "     INNER JOIN dim_date AS d\n",
    "     ON s.download_date_pst_id = d.date_id\n",
    "\n",
    "     GROUP BY 2,3,4) AS s\n",
    "INNER JOIN (SELECT movie_metadata_id AS Movie_id,\n",
    "                   mama_movie_id AS Mama_id,\n",
    "                   original_title AS Title,\n",
    "                   nationality AS Nationality\n",
    "            FROM umw_dwh.dim_movie_metadata) AS m\n",
    "ON s.Movie_id = m.Movie_id\n",
    "'''\n",
    "\n",
    "#df = data(query)"
   ]
  },
  {
   "cell_type": "code",
   "execution_count": 14,
   "metadata": {},
   "outputs": [],
   "source": [
    "# Save queried data\n",
    "#df.to_csv('movie_revenue_new_by_day.csv', index=None)"
   ]
  },
  {
   "cell_type": "markdown",
   "metadata": {},
   "source": [
    "# Load Local Data"
   ]
  },
  {
   "cell_type": "code",
   "execution_count": 81,
   "metadata": {},
   "outputs": [],
   "source": [
    "# Read tags and movie revenue data\n",
    "tags = pd.read_csv(\"tags_clean.csv\", index_col='id')\n",
    "df = pd.read_csv('movie_revenue_new_by_day.csv', parse_dates=['Date'])"
   ]
  },
  {
   "cell_type": "markdown",
   "metadata": {},
   "source": [
    "# Variables"
   ]
  },
  {
   "cell_type": "code",
   "execution_count": 6,
   "metadata": {},
   "outputs": [
    {
     "data": {
      "text/plain": [
       "array([nan, 'US', 'BE', 'FR', 'ES', 'CA', 'DE', 'SG', 'IN', 'MY', 'NL',\n",
       "       'HK', 'GB', 'AT', 'LT', 'JP', 'RU', 'ZA', 'LU', 'CN', 'DK', 'AR',\n",
       "       'KR', 'TH', 'IS', 'VN', 'IL', 'NZ', 'AU', 'HR', 'IT', 'MX', 'SN',\n",
       "       'MA', 'IE', 'PL', 'SI', 'RO', 'CZ', 'NO', 'TR', 'CO', 'CH', 'SE',\n",
       "       'NP', 'BR', 'UY', 'PH', 'FI', 'PE', 'TW', 'PT', 'CL', 'KZ', 'SA',\n",
       "       'TN', 'ID', 'BG', 'IR', 'CU', 'AF', 'HU', 'LB', 'JO', 'EG', 'RS',\n",
       "       'NG', 'MK', 'AM', 'EE', 'PR', 'GT', 'UM', 'GR', 'LV', 'TT', 'VE',\n",
       "       'GE', 'EC', 'CD', 'ET', 'AE', 'UA', 'BA', 'CY', 'SK', 'MC', 'AO',\n",
       "       'NE', 'DO', 'ZM', 'PY', 'ER'], dtype=object)"
      ]
     },
     "execution_count": 6,
     "metadata": {},
     "output_type": "execute_result"
    }
   ],
   "source": [
    "# Country-in\n",
    "df['Country_of_origin'].unique()"
   ]
  },
  {
   "cell_type": "code",
   "execution_count": 7,
   "metadata": {},
   "outputs": [
    {
     "data": {
      "text/plain": [
       "array(['Australia', 'Austria', 'Belgium', 'Brazil', 'Canada', 'Denmark',\n",
       "       'Finland', 'France', 'Germany', 'Greece', 'Hong Kong', 'Indonesia',\n",
       "       'Ireland', 'Italy', 'Japan', 'Luxembourg', 'Malaysia', 'Mexico',\n",
       "       'Netherlands', 'New Zealand', 'Norway', 'Poland',\n",
       "       'Russian Federation', 'Singapore', 'South Africa', 'Spain',\n",
       "       'Sweden', 'Switzerland', 'Taiwan, Province of China',\n",
       "       'United Kingdom', 'United States', 'Argentina',\n",
       "       'Brunei Darussalam', 'Chile', 'Colombia', 'Costa Rica',\n",
       "       'Dominican Republic', 'Ecuador', 'Guatemala', 'Macao', 'Panama',\n",
       "       'Paraguay', 'Peru', 'Philippines', 'Sri Lanka', 'Thailand',\n",
       "       'Viet Nam', 'El Salvador', 'Hungary', 'Israel', 'Slovakia',\n",
       "       'Cambodia', 'Honduras', 'Venezuela, Bolivarian Republic of',\n",
       "       'Portugal', 'Nicaragua', 'Belarus', 'Bulgaria', 'Mozambique',\n",
       "       'Bolivia, Plurinational State of', 'Bermuda', 'Cyprus', 'Estonia',\n",
       "       'Slovenia', 'Czech Republic', 'Lithuania', 'Malta', 'Turkey',\n",
       "       'Armenia', 'Mauritius', 'Latvia',\n",
       "       \"Lao People's Democratic Republic\", 'Azerbaijan', 'Namibia',\n",
       "       'Botswana', 'Zimbabwe', 'Cape Verde', 'Uganda', 'Mongolia',\n",
       "       'Moldova, Republic of', 'Puerto Rico', 'Cayman Islands',\n",
       "       'Virgin Islands, British', 'Fiji', 'Ukraine',\n",
       "       'Trinidad and Tobago', 'Greenland', 'India', 'Bahamas', 'Croatia',\n",
       "       'Romania', 'Tunisia', 'Saudi Arabia', 'United Arab Emirates',\n",
       "       'Lebanon', 'Myanmar'], dtype=object)"
      ]
     },
     "execution_count": 7,
     "metadata": {},
     "output_type": "execute_result"
    }
   ],
   "source": [
    "# Country-out\n",
    "df['Country_of_market'].unique()"
   ]
  },
  {
   "cell_type": "code",
   "execution_count": 72,
   "metadata": {},
   "outputs": [],
   "source": [
    "# Set varaiables\n",
    "country_in = ['FR']\n",
    "country_out = ['United States']\n",
    "horizen = 3 # months"
   ]
  },
  {
   "cell_type": "code",
   "execution_count": 90,
   "metadata": {},
   "outputs": [
    {
     "name": "stderr",
     "output_type": "stream",
     "text": [
      "Query_Function.py:35: FutureWarning:\n",
      "\n",
      "M and Y units are deprecated and will be removed in a future version.\n",
      "\n"
     ]
    }
   ],
   "source": [
    "# Create Dataframes for use\n",
    "df_query, df_tags = pipeline(df, country_in, country_out, horizen)"
   ]
  },
  {
   "cell_type": "code",
   "execution_count": 86,
   "metadata": {},
   "outputs": [
    {
     "data": {
      "application/vnd.plotly.v1+json": {
       "config": {
        "plotlyServerURL": "https://plot.ly"
       },
       "data": [
        {
         "alignmentgroup": "True",
         "hoverlabel": {
          "namelength": 0
         },
         "hovertemplate": "Tag=%{x}<br>Median=%{y}",
         "legendgroup": "",
         "marker": {
          "color": "#636efa"
         },
         "name": "",
         "offsetgroup": "",
         "orientation": "v",
         "showlegend": false,
         "textposition": "auto",
         "type": "bar",
         "x": [
          "musicians",
          "false identities",
          "investigations",
          "best friends",
          "about a crush",
          "family conflicts",
          "everything goes wrong",
          "road trips",
          "politics",
          "activism",
          "starting over",
          "dynamic duo",
          "comedy of manners",
          "family fun",
          "daily life",
          "interviews",
          "featuring children",
          "siblings",
          "hot pursuits",
          "sports"
         ],
         "xaxis": "x",
         "y": [
          4442.01,
          1092.14,
          683.8600000000001,
          681.4000000000002,
          639.8000000000002,
          560.8949999999999,
          558.7999999999997,
          554.25,
          554.25,
          554.25,
          535.2500000000001,
          518.5,
          477.25,
          472.23000000000013,
          462.0799999999999,
          461.93999999999994,
          438.86500000000007,
          438.4825000000001,
          436.11000000000007,
          417.26500000000004
         ],
         "yaxis": "y"
        }
       ],
       "layout": {
        "barmode": "relative",
        "legend": {
         "tracegroupgap": 0
        },
        "margin": {
         "t": 60
        },
        "template": {
         "data": {
          "bar": [
           {
            "error_x": {
             "color": "#2a3f5f"
            },
            "error_y": {
             "color": "#2a3f5f"
            },
            "marker": {
             "line": {
              "color": "#E5ECF6",
              "width": 0.5
             }
            },
            "type": "bar"
           }
          ],
          "barpolar": [
           {
            "marker": {
             "line": {
              "color": "#E5ECF6",
              "width": 0.5
             }
            },
            "type": "barpolar"
           }
          ],
          "carpet": [
           {
            "aaxis": {
             "endlinecolor": "#2a3f5f",
             "gridcolor": "white",
             "linecolor": "white",
             "minorgridcolor": "white",
             "startlinecolor": "#2a3f5f"
            },
            "baxis": {
             "endlinecolor": "#2a3f5f",
             "gridcolor": "white",
             "linecolor": "white",
             "minorgridcolor": "white",
             "startlinecolor": "#2a3f5f"
            },
            "type": "carpet"
           }
          ],
          "choropleth": [
           {
            "colorbar": {
             "outlinewidth": 0,
             "ticks": ""
            },
            "type": "choropleth"
           }
          ],
          "contour": [
           {
            "colorbar": {
             "outlinewidth": 0,
             "ticks": ""
            },
            "colorscale": [
             [
              0,
              "#0d0887"
             ],
             [
              0.1111111111111111,
              "#46039f"
             ],
             [
              0.2222222222222222,
              "#7201a8"
             ],
             [
              0.3333333333333333,
              "#9c179e"
             ],
             [
              0.4444444444444444,
              "#bd3786"
             ],
             [
              0.5555555555555556,
              "#d8576b"
             ],
             [
              0.6666666666666666,
              "#ed7953"
             ],
             [
              0.7777777777777778,
              "#fb9f3a"
             ],
             [
              0.8888888888888888,
              "#fdca26"
             ],
             [
              1,
              "#f0f921"
             ]
            ],
            "type": "contour"
           }
          ],
          "contourcarpet": [
           {
            "colorbar": {
             "outlinewidth": 0,
             "ticks": ""
            },
            "type": "contourcarpet"
           }
          ],
          "heatmap": [
           {
            "colorbar": {
             "outlinewidth": 0,
             "ticks": ""
            },
            "colorscale": [
             [
              0,
              "#0d0887"
             ],
             [
              0.1111111111111111,
              "#46039f"
             ],
             [
              0.2222222222222222,
              "#7201a8"
             ],
             [
              0.3333333333333333,
              "#9c179e"
             ],
             [
              0.4444444444444444,
              "#bd3786"
             ],
             [
              0.5555555555555556,
              "#d8576b"
             ],
             [
              0.6666666666666666,
              "#ed7953"
             ],
             [
              0.7777777777777778,
              "#fb9f3a"
             ],
             [
              0.8888888888888888,
              "#fdca26"
             ],
             [
              1,
              "#f0f921"
             ]
            ],
            "type": "heatmap"
           }
          ],
          "heatmapgl": [
           {
            "colorbar": {
             "outlinewidth": 0,
             "ticks": ""
            },
            "colorscale": [
             [
              0,
              "#0d0887"
             ],
             [
              0.1111111111111111,
              "#46039f"
             ],
             [
              0.2222222222222222,
              "#7201a8"
             ],
             [
              0.3333333333333333,
              "#9c179e"
             ],
             [
              0.4444444444444444,
              "#bd3786"
             ],
             [
              0.5555555555555556,
              "#d8576b"
             ],
             [
              0.6666666666666666,
              "#ed7953"
             ],
             [
              0.7777777777777778,
              "#fb9f3a"
             ],
             [
              0.8888888888888888,
              "#fdca26"
             ],
             [
              1,
              "#f0f921"
             ]
            ],
            "type": "heatmapgl"
           }
          ],
          "histogram": [
           {
            "marker": {
             "colorbar": {
              "outlinewidth": 0,
              "ticks": ""
             }
            },
            "type": "histogram"
           }
          ],
          "histogram2d": [
           {
            "colorbar": {
             "outlinewidth": 0,
             "ticks": ""
            },
            "colorscale": [
             [
              0,
              "#0d0887"
             ],
             [
              0.1111111111111111,
              "#46039f"
             ],
             [
              0.2222222222222222,
              "#7201a8"
             ],
             [
              0.3333333333333333,
              "#9c179e"
             ],
             [
              0.4444444444444444,
              "#bd3786"
             ],
             [
              0.5555555555555556,
              "#d8576b"
             ],
             [
              0.6666666666666666,
              "#ed7953"
             ],
             [
              0.7777777777777778,
              "#fb9f3a"
             ],
             [
              0.8888888888888888,
              "#fdca26"
             ],
             [
              1,
              "#f0f921"
             ]
            ],
            "type": "histogram2d"
           }
          ],
          "histogram2dcontour": [
           {
            "colorbar": {
             "outlinewidth": 0,
             "ticks": ""
            },
            "colorscale": [
             [
              0,
              "#0d0887"
             ],
             [
              0.1111111111111111,
              "#46039f"
             ],
             [
              0.2222222222222222,
              "#7201a8"
             ],
             [
              0.3333333333333333,
              "#9c179e"
             ],
             [
              0.4444444444444444,
              "#bd3786"
             ],
             [
              0.5555555555555556,
              "#d8576b"
             ],
             [
              0.6666666666666666,
              "#ed7953"
             ],
             [
              0.7777777777777778,
              "#fb9f3a"
             ],
             [
              0.8888888888888888,
              "#fdca26"
             ],
             [
              1,
              "#f0f921"
             ]
            ],
            "type": "histogram2dcontour"
           }
          ],
          "mesh3d": [
           {
            "colorbar": {
             "outlinewidth": 0,
             "ticks": ""
            },
            "type": "mesh3d"
           }
          ],
          "parcoords": [
           {
            "line": {
             "colorbar": {
              "outlinewidth": 0,
              "ticks": ""
             }
            },
            "type": "parcoords"
           }
          ],
          "pie": [
           {
            "automargin": true,
            "type": "pie"
           }
          ],
          "scatter": [
           {
            "marker": {
             "colorbar": {
              "outlinewidth": 0,
              "ticks": ""
             }
            },
            "type": "scatter"
           }
          ],
          "scatter3d": [
           {
            "line": {
             "colorbar": {
              "outlinewidth": 0,
              "ticks": ""
             }
            },
            "marker": {
             "colorbar": {
              "outlinewidth": 0,
              "ticks": ""
             }
            },
            "type": "scatter3d"
           }
          ],
          "scattercarpet": [
           {
            "marker": {
             "colorbar": {
              "outlinewidth": 0,
              "ticks": ""
             }
            },
            "type": "scattercarpet"
           }
          ],
          "scattergeo": [
           {
            "marker": {
             "colorbar": {
              "outlinewidth": 0,
              "ticks": ""
             }
            },
            "type": "scattergeo"
           }
          ],
          "scattergl": [
           {
            "marker": {
             "colorbar": {
              "outlinewidth": 0,
              "ticks": ""
             }
            },
            "type": "scattergl"
           }
          ],
          "scattermapbox": [
           {
            "marker": {
             "colorbar": {
              "outlinewidth": 0,
              "ticks": ""
             }
            },
            "type": "scattermapbox"
           }
          ],
          "scatterpolar": [
           {
            "marker": {
             "colorbar": {
              "outlinewidth": 0,
              "ticks": ""
             }
            },
            "type": "scatterpolar"
           }
          ],
          "scatterpolargl": [
           {
            "marker": {
             "colorbar": {
              "outlinewidth": 0,
              "ticks": ""
             }
            },
            "type": "scatterpolargl"
           }
          ],
          "scatterternary": [
           {
            "marker": {
             "colorbar": {
              "outlinewidth": 0,
              "ticks": ""
             }
            },
            "type": "scatterternary"
           }
          ],
          "surface": [
           {
            "colorbar": {
             "outlinewidth": 0,
             "ticks": ""
            },
            "colorscale": [
             [
              0,
              "#0d0887"
             ],
             [
              0.1111111111111111,
              "#46039f"
             ],
             [
              0.2222222222222222,
              "#7201a8"
             ],
             [
              0.3333333333333333,
              "#9c179e"
             ],
             [
              0.4444444444444444,
              "#bd3786"
             ],
             [
              0.5555555555555556,
              "#d8576b"
             ],
             [
              0.6666666666666666,
              "#ed7953"
             ],
             [
              0.7777777777777778,
              "#fb9f3a"
             ],
             [
              0.8888888888888888,
              "#fdca26"
             ],
             [
              1,
              "#f0f921"
             ]
            ],
            "type": "surface"
           }
          ],
          "table": [
           {
            "cells": {
             "fill": {
              "color": "#EBF0F8"
             },
             "line": {
              "color": "white"
             }
            },
            "header": {
             "fill": {
              "color": "#C8D4E3"
             },
             "line": {
              "color": "white"
             }
            },
            "type": "table"
           }
          ]
         },
         "layout": {
          "annotationdefaults": {
           "arrowcolor": "#2a3f5f",
           "arrowhead": 0,
           "arrowwidth": 1
          },
          "coloraxis": {
           "colorbar": {
            "outlinewidth": 0,
            "ticks": ""
           }
          },
          "colorscale": {
           "diverging": [
            [
             0,
             "#8e0152"
            ],
            [
             0.1,
             "#c51b7d"
            ],
            [
             0.2,
             "#de77ae"
            ],
            [
             0.3,
             "#f1b6da"
            ],
            [
             0.4,
             "#fde0ef"
            ],
            [
             0.5,
             "#f7f7f7"
            ],
            [
             0.6,
             "#e6f5d0"
            ],
            [
             0.7,
             "#b8e186"
            ],
            [
             0.8,
             "#7fbc41"
            ],
            [
             0.9,
             "#4d9221"
            ],
            [
             1,
             "#276419"
            ]
           ],
           "sequential": [
            [
             0,
             "#0d0887"
            ],
            [
             0.1111111111111111,
             "#46039f"
            ],
            [
             0.2222222222222222,
             "#7201a8"
            ],
            [
             0.3333333333333333,
             "#9c179e"
            ],
            [
             0.4444444444444444,
             "#bd3786"
            ],
            [
             0.5555555555555556,
             "#d8576b"
            ],
            [
             0.6666666666666666,
             "#ed7953"
            ],
            [
             0.7777777777777778,
             "#fb9f3a"
            ],
            [
             0.8888888888888888,
             "#fdca26"
            ],
            [
             1,
             "#f0f921"
            ]
           ],
           "sequentialminus": [
            [
             0,
             "#0d0887"
            ],
            [
             0.1111111111111111,
             "#46039f"
            ],
            [
             0.2222222222222222,
             "#7201a8"
            ],
            [
             0.3333333333333333,
             "#9c179e"
            ],
            [
             0.4444444444444444,
             "#bd3786"
            ],
            [
             0.5555555555555556,
             "#d8576b"
            ],
            [
             0.6666666666666666,
             "#ed7953"
            ],
            [
             0.7777777777777778,
             "#fb9f3a"
            ],
            [
             0.8888888888888888,
             "#fdca26"
            ],
            [
             1,
             "#f0f921"
            ]
           ]
          },
          "colorway": [
           "#636efa",
           "#EF553B",
           "#00cc96",
           "#ab63fa",
           "#FFA15A",
           "#19d3f3",
           "#FF6692",
           "#B6E880",
           "#FF97FF",
           "#FECB52"
          ],
          "font": {
           "color": "#2a3f5f"
          },
          "geo": {
           "bgcolor": "white",
           "lakecolor": "white",
           "landcolor": "#E5ECF6",
           "showlakes": true,
           "showland": true,
           "subunitcolor": "white"
          },
          "hoverlabel": {
           "align": "left"
          },
          "hovermode": "closest",
          "mapbox": {
           "style": "light"
          },
          "paper_bgcolor": "white",
          "plot_bgcolor": "#E5ECF6",
          "polar": {
           "angularaxis": {
            "gridcolor": "white",
            "linecolor": "white",
            "ticks": ""
           },
           "bgcolor": "#E5ECF6",
           "radialaxis": {
            "gridcolor": "white",
            "linecolor": "white",
            "ticks": ""
           }
          },
          "scene": {
           "xaxis": {
            "backgroundcolor": "#E5ECF6",
            "gridcolor": "white",
            "gridwidth": 2,
            "linecolor": "white",
            "showbackground": true,
            "ticks": "",
            "zerolinecolor": "white"
           },
           "yaxis": {
            "backgroundcolor": "#E5ECF6",
            "gridcolor": "white",
            "gridwidth": 2,
            "linecolor": "white",
            "showbackground": true,
            "ticks": "",
            "zerolinecolor": "white"
           },
           "zaxis": {
            "backgroundcolor": "#E5ECF6",
            "gridcolor": "white",
            "gridwidth": 2,
            "linecolor": "white",
            "showbackground": true,
            "ticks": "",
            "zerolinecolor": "white"
           }
          },
          "shapedefaults": {
           "line": {
            "color": "#2a3f5f"
           }
          },
          "ternary": {
           "aaxis": {
            "gridcolor": "white",
            "linecolor": "white",
            "ticks": ""
           },
           "baxis": {
            "gridcolor": "white",
            "linecolor": "white",
            "ticks": ""
           },
           "bgcolor": "#E5ECF6",
           "caxis": {
            "gridcolor": "white",
            "linecolor": "white",
            "ticks": ""
           }
          },
          "title": {
           "x": 0.05
          },
          "xaxis": {
           "automargin": true,
           "gridcolor": "white",
           "linecolor": "white",
           "ticks": "",
           "title": {
            "standoff": 15
           },
           "zerolinecolor": "white",
           "zerolinewidth": 2
          },
          "yaxis": {
           "automargin": true,
           "gridcolor": "white",
           "linecolor": "white",
           "ticks": "",
           "title": {
            "standoff": 15
           },
           "zerolinecolor": "white",
           "zerolinewidth": 2
          }
         }
        },
        "title": {
         "text": "Top 20 Tags with at least 10 movies"
        },
        "xaxis": {
         "anchor": "y",
         "domain": [
          0,
          1
         ],
         "title": {
          "text": "Tag"
         }
        },
        "yaxis": {
         "anchor": "x",
         "domain": [
          0,
          1
         ],
         "title": {
          "text": "Median"
         }
        }
       }
      },
      "text/html": [
       "<div>\n",
       "        \n",
       "        \n",
       "            <div id=\"f51c0dbd-e708-4932-9949-d9b3d1eb5c05\" class=\"plotly-graph-div\" style=\"height:525px; width:100%;\"></div>\n",
       "            <script type=\"text/javascript\">\n",
       "                require([\"plotly\"], function(Plotly) {\n",
       "                    window.PLOTLYENV=window.PLOTLYENV || {};\n",
       "                    \n",
       "                if (document.getElementById(\"f51c0dbd-e708-4932-9949-d9b3d1eb5c05\")) {\n",
       "                    Plotly.newPlot(\n",
       "                        'f51c0dbd-e708-4932-9949-d9b3d1eb5c05',\n",
       "                        [{\"alignmentgroup\": \"True\", \"hoverlabel\": {\"namelength\": 0}, \"hovertemplate\": \"Tag=%{x}<br>Median=%{y}\", \"legendgroup\": \"\", \"marker\": {\"color\": \"#636efa\"}, \"name\": \"\", \"offsetgroup\": \"\", \"orientation\": \"v\", \"showlegend\": false, \"textposition\": \"auto\", \"type\": \"bar\", \"x\": [\"musicians\", \"false identities\", \"investigations\", \"best friends\", \"about a crush\", \"family conflicts\", \"everything goes wrong\", \"road trips\", \"politics\", \"activism\", \"starting over\", \"dynamic duo\", \"comedy of manners\", \"family fun\", \"daily life\", \"interviews\", \"featuring children\", \"siblings\", \"hot pursuits\", \"sports\"], \"xaxis\": \"x\", \"y\": [4442.01, 1092.14, 683.8600000000001, 681.4000000000002, 639.8000000000002, 560.8949999999999, 558.7999999999997, 554.25, 554.25, 554.25, 535.2500000000001, 518.5, 477.25, 472.23000000000013, 462.0799999999999, 461.93999999999994, 438.86500000000007, 438.4825000000001, 436.11000000000007, 417.26500000000004], \"yaxis\": \"y\"}],\n",
       "                        {\"barmode\": \"relative\", \"legend\": {\"tracegroupgap\": 0}, \"margin\": {\"t\": 60}, \"template\": {\"data\": {\"bar\": [{\"error_x\": {\"color\": \"#2a3f5f\"}, \"error_y\": {\"color\": \"#2a3f5f\"}, \"marker\": {\"line\": {\"color\": \"#E5ECF6\", \"width\": 0.5}}, \"type\": \"bar\"}], \"barpolar\": [{\"marker\": {\"line\": {\"color\": \"#E5ECF6\", \"width\": 0.5}}, \"type\": \"barpolar\"}], \"carpet\": [{\"aaxis\": {\"endlinecolor\": \"#2a3f5f\", \"gridcolor\": \"white\", \"linecolor\": \"white\", \"minorgridcolor\": \"white\", \"startlinecolor\": \"#2a3f5f\"}, \"baxis\": {\"endlinecolor\": \"#2a3f5f\", \"gridcolor\": \"white\", \"linecolor\": \"white\", \"minorgridcolor\": \"white\", \"startlinecolor\": \"#2a3f5f\"}, \"type\": \"carpet\"}], \"choropleth\": [{\"colorbar\": {\"outlinewidth\": 0, \"ticks\": \"\"}, \"type\": \"choropleth\"}], \"contour\": [{\"colorbar\": {\"outlinewidth\": 0, \"ticks\": \"\"}, \"colorscale\": [[0.0, \"#0d0887\"], [0.1111111111111111, \"#46039f\"], [0.2222222222222222, \"#7201a8\"], [0.3333333333333333, \"#9c179e\"], [0.4444444444444444, \"#bd3786\"], [0.5555555555555556, \"#d8576b\"], [0.6666666666666666, \"#ed7953\"], [0.7777777777777778, \"#fb9f3a\"], [0.8888888888888888, \"#fdca26\"], [1.0, \"#f0f921\"]], \"type\": \"contour\"}], \"contourcarpet\": [{\"colorbar\": {\"outlinewidth\": 0, \"ticks\": \"\"}, \"type\": \"contourcarpet\"}], \"heatmap\": [{\"colorbar\": {\"outlinewidth\": 0, \"ticks\": \"\"}, \"colorscale\": [[0.0, \"#0d0887\"], [0.1111111111111111, \"#46039f\"], [0.2222222222222222, \"#7201a8\"], [0.3333333333333333, \"#9c179e\"], [0.4444444444444444, \"#bd3786\"], [0.5555555555555556, \"#d8576b\"], [0.6666666666666666, \"#ed7953\"], [0.7777777777777778, \"#fb9f3a\"], [0.8888888888888888, \"#fdca26\"], [1.0, \"#f0f921\"]], \"type\": \"heatmap\"}], \"heatmapgl\": [{\"colorbar\": {\"outlinewidth\": 0, \"ticks\": \"\"}, \"colorscale\": [[0.0, \"#0d0887\"], [0.1111111111111111, \"#46039f\"], [0.2222222222222222, \"#7201a8\"], [0.3333333333333333, \"#9c179e\"], [0.4444444444444444, \"#bd3786\"], [0.5555555555555556, \"#d8576b\"], [0.6666666666666666, \"#ed7953\"], [0.7777777777777778, \"#fb9f3a\"], [0.8888888888888888, \"#fdca26\"], [1.0, \"#f0f921\"]], \"type\": \"heatmapgl\"}], \"histogram\": [{\"marker\": {\"colorbar\": {\"outlinewidth\": 0, \"ticks\": \"\"}}, \"type\": \"histogram\"}], \"histogram2d\": [{\"colorbar\": {\"outlinewidth\": 0, \"ticks\": \"\"}, \"colorscale\": [[0.0, \"#0d0887\"], [0.1111111111111111, \"#46039f\"], [0.2222222222222222, \"#7201a8\"], [0.3333333333333333, \"#9c179e\"], [0.4444444444444444, \"#bd3786\"], [0.5555555555555556, \"#d8576b\"], [0.6666666666666666, \"#ed7953\"], [0.7777777777777778, \"#fb9f3a\"], [0.8888888888888888, \"#fdca26\"], [1.0, \"#f0f921\"]], \"type\": \"histogram2d\"}], \"histogram2dcontour\": [{\"colorbar\": {\"outlinewidth\": 0, \"ticks\": \"\"}, \"colorscale\": [[0.0, \"#0d0887\"], [0.1111111111111111, \"#46039f\"], [0.2222222222222222, \"#7201a8\"], [0.3333333333333333, \"#9c179e\"], [0.4444444444444444, \"#bd3786\"], [0.5555555555555556, \"#d8576b\"], [0.6666666666666666, \"#ed7953\"], [0.7777777777777778, \"#fb9f3a\"], [0.8888888888888888, \"#fdca26\"], [1.0, \"#f0f921\"]], \"type\": \"histogram2dcontour\"}], \"mesh3d\": [{\"colorbar\": {\"outlinewidth\": 0, \"ticks\": \"\"}, \"type\": \"mesh3d\"}], \"parcoords\": [{\"line\": {\"colorbar\": {\"outlinewidth\": 0, \"ticks\": \"\"}}, \"type\": \"parcoords\"}], \"pie\": [{\"automargin\": true, \"type\": \"pie\"}], \"scatter\": [{\"marker\": {\"colorbar\": {\"outlinewidth\": 0, \"ticks\": \"\"}}, \"type\": \"scatter\"}], \"scatter3d\": [{\"line\": {\"colorbar\": {\"outlinewidth\": 0, \"ticks\": \"\"}}, \"marker\": {\"colorbar\": {\"outlinewidth\": 0, \"ticks\": \"\"}}, \"type\": \"scatter3d\"}], \"scattercarpet\": [{\"marker\": {\"colorbar\": {\"outlinewidth\": 0, \"ticks\": \"\"}}, \"type\": \"scattercarpet\"}], \"scattergeo\": [{\"marker\": {\"colorbar\": {\"outlinewidth\": 0, \"ticks\": \"\"}}, \"type\": \"scattergeo\"}], \"scattergl\": [{\"marker\": {\"colorbar\": {\"outlinewidth\": 0, \"ticks\": \"\"}}, \"type\": \"scattergl\"}], \"scattermapbox\": [{\"marker\": {\"colorbar\": {\"outlinewidth\": 0, \"ticks\": \"\"}}, \"type\": \"scattermapbox\"}], \"scatterpolar\": [{\"marker\": {\"colorbar\": {\"outlinewidth\": 0, \"ticks\": \"\"}}, \"type\": \"scatterpolar\"}], \"scatterpolargl\": [{\"marker\": {\"colorbar\": {\"outlinewidth\": 0, \"ticks\": \"\"}}, \"type\": \"scatterpolargl\"}], \"scatterternary\": [{\"marker\": {\"colorbar\": {\"outlinewidth\": 0, \"ticks\": \"\"}}, \"type\": \"scatterternary\"}], \"surface\": [{\"colorbar\": {\"outlinewidth\": 0, \"ticks\": \"\"}, \"colorscale\": [[0.0, \"#0d0887\"], [0.1111111111111111, \"#46039f\"], [0.2222222222222222, \"#7201a8\"], [0.3333333333333333, \"#9c179e\"], [0.4444444444444444, \"#bd3786\"], [0.5555555555555556, \"#d8576b\"], [0.6666666666666666, \"#ed7953\"], [0.7777777777777778, \"#fb9f3a\"], [0.8888888888888888, \"#fdca26\"], [1.0, \"#f0f921\"]], \"type\": \"surface\"}], \"table\": [{\"cells\": {\"fill\": {\"color\": \"#EBF0F8\"}, \"line\": {\"color\": \"white\"}}, \"header\": {\"fill\": {\"color\": \"#C8D4E3\"}, \"line\": {\"color\": \"white\"}}, \"type\": \"table\"}]}, \"layout\": {\"annotationdefaults\": {\"arrowcolor\": \"#2a3f5f\", \"arrowhead\": 0, \"arrowwidth\": 1}, \"coloraxis\": {\"colorbar\": {\"outlinewidth\": 0, \"ticks\": \"\"}}, \"colorscale\": {\"diverging\": [[0, \"#8e0152\"], [0.1, \"#c51b7d\"], [0.2, \"#de77ae\"], [0.3, \"#f1b6da\"], [0.4, \"#fde0ef\"], [0.5, \"#f7f7f7\"], [0.6, \"#e6f5d0\"], [0.7, \"#b8e186\"], [0.8, \"#7fbc41\"], [0.9, \"#4d9221\"], [1, \"#276419\"]], \"sequential\": [[0.0, \"#0d0887\"], [0.1111111111111111, \"#46039f\"], [0.2222222222222222, \"#7201a8\"], [0.3333333333333333, \"#9c179e\"], [0.4444444444444444, \"#bd3786\"], [0.5555555555555556, \"#d8576b\"], [0.6666666666666666, \"#ed7953\"], [0.7777777777777778, \"#fb9f3a\"], [0.8888888888888888, \"#fdca26\"], [1.0, \"#f0f921\"]], \"sequentialminus\": [[0.0, \"#0d0887\"], [0.1111111111111111, \"#46039f\"], [0.2222222222222222, \"#7201a8\"], [0.3333333333333333, \"#9c179e\"], [0.4444444444444444, \"#bd3786\"], [0.5555555555555556, \"#d8576b\"], [0.6666666666666666, \"#ed7953\"], [0.7777777777777778, \"#fb9f3a\"], [0.8888888888888888, \"#fdca26\"], [1.0, \"#f0f921\"]]}, \"colorway\": [\"#636efa\", \"#EF553B\", \"#00cc96\", \"#ab63fa\", \"#FFA15A\", \"#19d3f3\", \"#FF6692\", \"#B6E880\", \"#FF97FF\", \"#FECB52\"], \"font\": {\"color\": \"#2a3f5f\"}, \"geo\": {\"bgcolor\": \"white\", \"lakecolor\": \"white\", \"landcolor\": \"#E5ECF6\", \"showlakes\": true, \"showland\": true, \"subunitcolor\": \"white\"}, \"hoverlabel\": {\"align\": \"left\"}, \"hovermode\": \"closest\", \"mapbox\": {\"style\": \"light\"}, \"paper_bgcolor\": \"white\", \"plot_bgcolor\": \"#E5ECF6\", \"polar\": {\"angularaxis\": {\"gridcolor\": \"white\", \"linecolor\": \"white\", \"ticks\": \"\"}, \"bgcolor\": \"#E5ECF6\", \"radialaxis\": {\"gridcolor\": \"white\", \"linecolor\": \"white\", \"ticks\": \"\"}}, \"scene\": {\"xaxis\": {\"backgroundcolor\": \"#E5ECF6\", \"gridcolor\": \"white\", \"gridwidth\": 2, \"linecolor\": \"white\", \"showbackground\": true, \"ticks\": \"\", \"zerolinecolor\": \"white\"}, \"yaxis\": {\"backgroundcolor\": \"#E5ECF6\", \"gridcolor\": \"white\", \"gridwidth\": 2, \"linecolor\": \"white\", \"showbackground\": true, \"ticks\": \"\", \"zerolinecolor\": \"white\"}, \"zaxis\": {\"backgroundcolor\": \"#E5ECF6\", \"gridcolor\": \"white\", \"gridwidth\": 2, \"linecolor\": \"white\", \"showbackground\": true, \"ticks\": \"\", \"zerolinecolor\": \"white\"}}, \"shapedefaults\": {\"line\": {\"color\": \"#2a3f5f\"}}, \"ternary\": {\"aaxis\": {\"gridcolor\": \"white\", \"linecolor\": \"white\", \"ticks\": \"\"}, \"baxis\": {\"gridcolor\": \"white\", \"linecolor\": \"white\", \"ticks\": \"\"}, \"bgcolor\": \"#E5ECF6\", \"caxis\": {\"gridcolor\": \"white\", \"linecolor\": \"white\", \"ticks\": \"\"}}, \"title\": {\"x\": 0.05}, \"xaxis\": {\"automargin\": true, \"gridcolor\": \"white\", \"linecolor\": \"white\", \"ticks\": \"\", \"title\": {\"standoff\": 15}, \"zerolinecolor\": \"white\", \"zerolinewidth\": 2}, \"yaxis\": {\"automargin\": true, \"gridcolor\": \"white\", \"linecolor\": \"white\", \"ticks\": \"\", \"title\": {\"standoff\": 15}, \"zerolinecolor\": \"white\", \"zerolinewidth\": 2}}}, \"title\": {\"text\": \"Top 20 Tags with at least 10 movies\"}, \"xaxis\": {\"anchor\": \"y\", \"domain\": [0.0, 1.0], \"title\": {\"text\": \"Tag\"}}, \"yaxis\": {\"anchor\": \"x\", \"domain\": [0.0, 1.0], \"title\": {\"text\": \"Median\"}}},\n",
       "                        {\"responsive\": true}\n",
       "                    ).then(function(){\n",
       "                            \n",
       "var gd = document.getElementById('f51c0dbd-e708-4932-9949-d9b3d1eb5c05');\n",
       "var x = new MutationObserver(function (mutations, observer) {{\n",
       "        var display = window.getComputedStyle(gd).display;\n",
       "        if (!display || display === 'none') {{\n",
       "            console.log([gd, 'removed!']);\n",
       "            Plotly.purge(gd);\n",
       "            observer.disconnect();\n",
       "        }}\n",
       "}});\n",
       "\n",
       "// Listen for the removal of the full notebook cells\n",
       "var notebookContainer = gd.closest('#notebook-container');\n",
       "if (notebookContainer) {{\n",
       "    x.observe(notebookContainer, {childList: true});\n",
       "}}\n",
       "\n",
       "// Listen for the clearing of the current output cell\n",
       "var outputEl = gd.closest('.output');\n",
       "if (outputEl) {{\n",
       "    x.observe(outputEl, {childList: true});\n",
       "}}\n",
       "\n",
       "                        })\n",
       "                };\n",
       "                });\n",
       "            </script>\n",
       "        </div>"
      ]
     },
     "metadata": {},
     "output_type": "display_data"
    }
   ],
   "source": [
    "# Plot the the top 20 tags with at least 10 movies\n",
    "data = df_tags[df_tags['Count']>10].sort_values('Median',ascending=False)\n",
    "data = data.iloc[:20]\n",
    "\n",
    "fig = px.bar(data, x='Tag', y='Median')\n",
    "fig.update_layout(title_text='Top 20 Tags with at least 10 movies')\n",
    "fig.show()"
   ]
  },
  {
   "cell_type": "code",
   "execution_count": 93,
   "metadata": {},
   "outputs": [
    {
     "data": {
      "text/html": [
       "<div>\n",
       "<style scoped>\n",
       "    .dataframe tbody tr th:only-of-type {\n",
       "        vertical-align: middle;\n",
       "    }\n",
       "\n",
       "    .dataframe tbody tr th {\n",
       "        vertical-align: top;\n",
       "    }\n",
       "\n",
       "    .dataframe thead th {\n",
       "        text-align: right;\n",
       "    }\n",
       "</style>\n",
       "<table border=\"1\" class=\"dataframe\">\n",
       "  <thead>\n",
       "    <tr style=\"text-align: right;\">\n",
       "      <th></th>\n",
       "      <th>Movie_id</th>\n",
       "      <th>Title</th>\n",
       "      <th>Country_of_origin</th>\n",
       "      <th>Country_of_market</th>\n",
       "      <th>Royalties</th>\n",
       "      <th>installation art</th>\n",
       "      <th>superheroes</th>\n",
       "      <th>Irish conflicts</th>\n",
       "      <th>1990s</th>\n",
       "      <th>spies</th>\n",
       "      <th>...</th>\n",
       "      <th>frenemies</th>\n",
       "      <th>hot pursuits</th>\n",
       "      <th>live concerts</th>\n",
       "      <th>in the skies</th>\n",
       "      <th>zombies</th>\n",
       "      <th>climbing</th>\n",
       "      <th>American Revolutionary War</th>\n",
       "      <th>looking for a parent</th>\n",
       "      <th>bars and restaurants</th>\n",
       "      <th>Western United States</th>\n",
       "    </tr>\n",
       "    <tr>\n",
       "      <th>Mama_id</th>\n",
       "      <th></th>\n",
       "      <th></th>\n",
       "      <th></th>\n",
       "      <th></th>\n",
       "      <th></th>\n",
       "      <th></th>\n",
       "      <th></th>\n",
       "      <th></th>\n",
       "      <th></th>\n",
       "      <th></th>\n",
       "      <th></th>\n",
       "      <th></th>\n",
       "      <th></th>\n",
       "      <th></th>\n",
       "      <th></th>\n",
       "      <th></th>\n",
       "      <th></th>\n",
       "      <th></th>\n",
       "      <th></th>\n",
       "      <th></th>\n",
       "      <th></th>\n",
       "    </tr>\n",
       "  </thead>\n",
       "  <tbody>\n",
       "    <tr>\n",
       "      <td>269</td>\n",
       "      <td>259</td>\n",
       "      <td>Astérix le Gaulois</td>\n",
       "      <td>FR</td>\n",
       "      <td>United States</td>\n",
       "      <td>826.50</td>\n",
       "      <td>0.0</td>\n",
       "      <td>0.0</td>\n",
       "      <td>0.0</td>\n",
       "      <td>0.0</td>\n",
       "      <td>0.0</td>\n",
       "      <td>...</td>\n",
       "      <td>0.0</td>\n",
       "      <td>0.0</td>\n",
       "      <td>0.0</td>\n",
       "      <td>0.0</td>\n",
       "      <td>0.0</td>\n",
       "      <td>0.0</td>\n",
       "      <td>0.0</td>\n",
       "      <td>0.0</td>\n",
       "      <td>0.0</td>\n",
       "      <td>0.0</td>\n",
       "    </tr>\n",
       "    <tr>\n",
       "      <td>546</td>\n",
       "      <td>520</td>\n",
       "      <td>Le marquis</td>\n",
       "      <td>FR</td>\n",
       "      <td>United States</td>\n",
       "      <td>227.50</td>\n",
       "      <td>0.0</td>\n",
       "      <td>0.0</td>\n",
       "      <td>0.0</td>\n",
       "      <td>0.0</td>\n",
       "      <td>0.0</td>\n",
       "      <td>...</td>\n",
       "      <td>0.0</td>\n",
       "      <td>0.0</td>\n",
       "      <td>0.0</td>\n",
       "      <td>0.0</td>\n",
       "      <td>0.0</td>\n",
       "      <td>0.0</td>\n",
       "      <td>0.0</td>\n",
       "      <td>0.0</td>\n",
       "      <td>0.0</td>\n",
       "      <td>0.0</td>\n",
       "    </tr>\n",
       "    <tr>\n",
       "      <td>579</td>\n",
       "      <td>552</td>\n",
       "      <td>Switch</td>\n",
       "      <td>FR</td>\n",
       "      <td>United States</td>\n",
       "      <td>2796.00</td>\n",
       "      <td>0.0</td>\n",
       "      <td>0.0</td>\n",
       "      <td>0.0</td>\n",
       "      <td>0.0</td>\n",
       "      <td>0.0</td>\n",
       "      <td>...</td>\n",
       "      <td>0.0</td>\n",
       "      <td>85.0</td>\n",
       "      <td>0.0</td>\n",
       "      <td>0.0</td>\n",
       "      <td>0.0</td>\n",
       "      <td>0.0</td>\n",
       "      <td>0.0</td>\n",
       "      <td>0.0</td>\n",
       "      <td>0.0</td>\n",
       "      <td>0.0</td>\n",
       "    </tr>\n",
       "    <tr>\n",
       "      <td>700</td>\n",
       "      <td>636</td>\n",
       "      <td>Fantômas</td>\n",
       "      <td>FR</td>\n",
       "      <td>United States</td>\n",
       "      <td>853.50</td>\n",
       "      <td>0.0</td>\n",
       "      <td>0.0</td>\n",
       "      <td>0.0</td>\n",
       "      <td>0.0</td>\n",
       "      <td>0.0</td>\n",
       "      <td>...</td>\n",
       "      <td>100.0</td>\n",
       "      <td>60.0</td>\n",
       "      <td>0.0</td>\n",
       "      <td>0.0</td>\n",
       "      <td>0.0</td>\n",
       "      <td>0.0</td>\n",
       "      <td>0.0</td>\n",
       "      <td>0.0</td>\n",
       "      <td>0.0</td>\n",
       "      <td>0.0</td>\n",
       "    </tr>\n",
       "    <tr>\n",
       "      <td>711</td>\n",
       "      <td>646</td>\n",
       "      <td>Les patriotes</td>\n",
       "      <td>FR</td>\n",
       "      <td>United States</td>\n",
       "      <td>153.00</td>\n",
       "      <td>0.0</td>\n",
       "      <td>0.0</td>\n",
       "      <td>0.0</td>\n",
       "      <td>0.0</td>\n",
       "      <td>100.0</td>\n",
       "      <td>...</td>\n",
       "      <td>0.0</td>\n",
       "      <td>0.0</td>\n",
       "      <td>0.0</td>\n",
       "      <td>0.0</td>\n",
       "      <td>0.0</td>\n",
       "      <td>0.0</td>\n",
       "      <td>0.0</td>\n",
       "      <td>0.0</td>\n",
       "      <td>0.0</td>\n",
       "      <td>0.0</td>\n",
       "    </tr>\n",
       "    <tr>\n",
       "      <td>868</td>\n",
       "      <td>775</td>\n",
       "      <td>Gardiens de l'ordre</td>\n",
       "      <td>FR</td>\n",
       "      <td>United States</td>\n",
       "      <td>1130.50</td>\n",
       "      <td>0.0</td>\n",
       "      <td>0.0</td>\n",
       "      <td>0.0</td>\n",
       "      <td>0.0</td>\n",
       "      <td>0.0</td>\n",
       "      <td>...</td>\n",
       "      <td>0.0</td>\n",
       "      <td>0.0</td>\n",
       "      <td>0.0</td>\n",
       "      <td>0.0</td>\n",
       "      <td>0.0</td>\n",
       "      <td>0.0</td>\n",
       "      <td>0.0</td>\n",
       "      <td>0.0</td>\n",
       "      <td>0.0</td>\n",
       "      <td>0.0</td>\n",
       "    </tr>\n",
       "    <tr>\n",
       "      <td>948</td>\n",
       "      <td>842</td>\n",
       "      <td>Parlez-moi de vous</td>\n",
       "      <td>FR</td>\n",
       "      <td>United States</td>\n",
       "      <td>2021.00</td>\n",
       "      <td>0.0</td>\n",
       "      <td>0.0</td>\n",
       "      <td>0.0</td>\n",
       "      <td>0.0</td>\n",
       "      <td>0.0</td>\n",
       "      <td>...</td>\n",
       "      <td>0.0</td>\n",
       "      <td>0.0</td>\n",
       "      <td>0.0</td>\n",
       "      <td>0.0</td>\n",
       "      <td>0.0</td>\n",
       "      <td>0.0</td>\n",
       "      <td>0.0</td>\n",
       "      <td>0.0</td>\n",
       "      <td>0.0</td>\n",
       "      <td>0.0</td>\n",
       "    </tr>\n",
       "    <tr>\n",
       "      <td>996</td>\n",
       "      <td>886</td>\n",
       "      <td>L'oncle Charles</td>\n",
       "      <td>FR</td>\n",
       "      <td>United States</td>\n",
       "      <td>1392.50</td>\n",
       "      <td>0.0</td>\n",
       "      <td>0.0</td>\n",
       "      <td>0.0</td>\n",
       "      <td>0.0</td>\n",
       "      <td>0.0</td>\n",
       "      <td>...</td>\n",
       "      <td>0.0</td>\n",
       "      <td>0.0</td>\n",
       "      <td>0.0</td>\n",
       "      <td>0.0</td>\n",
       "      <td>0.0</td>\n",
       "      <td>0.0</td>\n",
       "      <td>0.0</td>\n",
       "      <td>0.0</td>\n",
       "      <td>0.0</td>\n",
       "      <td>0.0</td>\n",
       "    </tr>\n",
       "    <tr>\n",
       "      <td>1353</td>\n",
       "      <td>1230</td>\n",
       "      <td>Mes héros</td>\n",
       "      <td>FR</td>\n",
       "      <td>United States</td>\n",
       "      <td>1239.00</td>\n",
       "      <td>0.0</td>\n",
       "      <td>0.0</td>\n",
       "      <td>0.0</td>\n",
       "      <td>0.0</td>\n",
       "      <td>0.0</td>\n",
       "      <td>...</td>\n",
       "      <td>0.0</td>\n",
       "      <td>0.0</td>\n",
       "      <td>0.0</td>\n",
       "      <td>0.0</td>\n",
       "      <td>0.0</td>\n",
       "      <td>0.0</td>\n",
       "      <td>0.0</td>\n",
       "      <td>0.0</td>\n",
       "      <td>0.0</td>\n",
       "      <td>0.0</td>\n",
       "    </tr>\n",
       "    <tr>\n",
       "      <td>2406</td>\n",
       "      <td>2131</td>\n",
       "      <td>Supercondriaque</td>\n",
       "      <td>FR</td>\n",
       "      <td>United States</td>\n",
       "      <td>979.74</td>\n",
       "      <td>0.0</td>\n",
       "      <td>0.0</td>\n",
       "      <td>0.0</td>\n",
       "      <td>0.0</td>\n",
       "      <td>0.0</td>\n",
       "      <td>...</td>\n",
       "      <td>0.0</td>\n",
       "      <td>0.0</td>\n",
       "      <td>0.0</td>\n",
       "      <td>0.0</td>\n",
       "      <td>0.0</td>\n",
       "      <td>0.0</td>\n",
       "      <td>0.0</td>\n",
       "      <td>0.0</td>\n",
       "      <td>0.0</td>\n",
       "      <td>0.0</td>\n",
       "    </tr>\n",
       "    <tr>\n",
       "      <td>32120</td>\n",
       "      <td>2681</td>\n",
       "      <td>Plein soleil</td>\n",
       "      <td>FR</td>\n",
       "      <td>United States</td>\n",
       "      <td>270.20</td>\n",
       "      <td>0.0</td>\n",
       "      <td>0.0</td>\n",
       "      <td>0.0</td>\n",
       "      <td>0.0</td>\n",
       "      <td>0.0</td>\n",
       "      <td>...</td>\n",
       "      <td>0.0</td>\n",
       "      <td>0.0</td>\n",
       "      <td>0.0</td>\n",
       "      <td>0.0</td>\n",
       "      <td>0.0</td>\n",
       "      <td>0.0</td>\n",
       "      <td>0.0</td>\n",
       "      <td>0.0</td>\n",
       "      <td>0.0</td>\n",
       "      <td>0.0</td>\n",
       "    </tr>\n",
       "    <tr>\n",
       "      <td>32521</td>\n",
       "      <td>3066</td>\n",
       "      <td>Un illustre inconnu</td>\n",
       "      <td>FR</td>\n",
       "      <td>United States</td>\n",
       "      <td>1092.14</td>\n",
       "      <td>0.0</td>\n",
       "      <td>0.0</td>\n",
       "      <td>0.0</td>\n",
       "      <td>0.0</td>\n",
       "      <td>0.0</td>\n",
       "      <td>...</td>\n",
       "      <td>0.0</td>\n",
       "      <td>0.0</td>\n",
       "      <td>0.0</td>\n",
       "      <td>0.0</td>\n",
       "      <td>0.0</td>\n",
       "      <td>0.0</td>\n",
       "      <td>0.0</td>\n",
       "      <td>0.0</td>\n",
       "      <td>0.0</td>\n",
       "      <td>0.0</td>\n",
       "    </tr>\n",
       "    <tr>\n",
       "      <td>32530</td>\n",
       "      <td>3074</td>\n",
       "      <td>Espions</td>\n",
       "      <td>FR</td>\n",
       "      <td>United States</td>\n",
       "      <td>1912.12</td>\n",
       "      <td>0.0</td>\n",
       "      <td>0.0</td>\n",
       "      <td>0.0</td>\n",
       "      <td>0.0</td>\n",
       "      <td>100.0</td>\n",
       "      <td>...</td>\n",
       "      <td>0.0</td>\n",
       "      <td>0.0</td>\n",
       "      <td>0.0</td>\n",
       "      <td>0.0</td>\n",
       "      <td>0.0</td>\n",
       "      <td>0.0</td>\n",
       "      <td>0.0</td>\n",
       "      <td>0.0</td>\n",
       "      <td>0.0</td>\n",
       "      <td>0.0</td>\n",
       "    </tr>\n",
       "    <tr>\n",
       "      <td>35355</td>\n",
       "      <td>3753</td>\n",
       "      <td>Fantômas contre Scotland Yard</td>\n",
       "      <td>FR</td>\n",
       "      <td>United States</td>\n",
       "      <td>338.58</td>\n",
       "      <td>0.0</td>\n",
       "      <td>0.0</td>\n",
       "      <td>0.0</td>\n",
       "      <td>0.0</td>\n",
       "      <td>0.0</td>\n",
       "      <td>...</td>\n",
       "      <td>100.0</td>\n",
       "      <td>60.0</td>\n",
       "      <td>0.0</td>\n",
       "      <td>0.0</td>\n",
       "      <td>0.0</td>\n",
       "      <td>0.0</td>\n",
       "      <td>0.0</td>\n",
       "      <td>0.0</td>\n",
       "      <td>0.0</td>\n",
       "      <td>0.0</td>\n",
       "    </tr>\n",
       "    <tr>\n",
       "      <td>35356</td>\n",
       "      <td>3754</td>\n",
       "      <td>Fantômas se déchaîne</td>\n",
       "      <td>FR</td>\n",
       "      <td>United States</td>\n",
       "      <td>514.22</td>\n",
       "      <td>0.0</td>\n",
       "      <td>0.0</td>\n",
       "      <td>0.0</td>\n",
       "      <td>0.0</td>\n",
       "      <td>0.0</td>\n",
       "      <td>...</td>\n",
       "      <td>100.0</td>\n",
       "      <td>60.0</td>\n",
       "      <td>0.0</td>\n",
       "      <td>0.0</td>\n",
       "      <td>0.0</td>\n",
       "      <td>0.0</td>\n",
       "      <td>0.0</td>\n",
       "      <td>0.0</td>\n",
       "      <td>0.0</td>\n",
       "      <td>0.0</td>\n",
       "    </tr>\n",
       "    <tr>\n",
       "      <td>35980</td>\n",
       "      <td>4334</td>\n",
       "      <td>Arsene Lupin</td>\n",
       "      <td>FR</td>\n",
       "      <td>United States</td>\n",
       "      <td>3391.32</td>\n",
       "      <td>0.0</td>\n",
       "      <td>0.0</td>\n",
       "      <td>0.0</td>\n",
       "      <td>0.0</td>\n",
       "      <td>0.0</td>\n",
       "      <td>...</td>\n",
       "      <td>0.0</td>\n",
       "      <td>0.0</td>\n",
       "      <td>0.0</td>\n",
       "      <td>0.0</td>\n",
       "      <td>0.0</td>\n",
       "      <td>0.0</td>\n",
       "      <td>0.0</td>\n",
       "      <td>0.0</td>\n",
       "      <td>0.0</td>\n",
       "      <td>0.0</td>\n",
       "    </tr>\n",
       "    <tr>\n",
       "      <td>43258</td>\n",
       "      <td>6602</td>\n",
       "      <td>Gaspard va au mariage</td>\n",
       "      <td>FR</td>\n",
       "      <td>United States</td>\n",
       "      <td>1405.09</td>\n",
       "      <td>0.0</td>\n",
       "      <td>0.0</td>\n",
       "      <td>0.0</td>\n",
       "      <td>0.0</td>\n",
       "      <td>0.0</td>\n",
       "      <td>...</td>\n",
       "      <td>0.0</td>\n",
       "      <td>0.0</td>\n",
       "      <td>0.0</td>\n",
       "      <td>0.0</td>\n",
       "      <td>0.0</td>\n",
       "      <td>0.0</td>\n",
       "      <td>0.0</td>\n",
       "      <td>0.0</td>\n",
       "      <td>0.0</td>\n",
       "      <td>0.0</td>\n",
       "    </tr>\n",
       "  </tbody>\n",
       "</table>\n",
       "<p>17 rows × 733 columns</p>\n",
       "</div>"
      ],
      "text/plain": [
       "         Movie_id                          Title Country_of_origin  \\\n",
       "Mama_id                                                              \n",
       "269           259             Astérix le Gaulois                FR   \n",
       "546           520                     Le marquis                FR   \n",
       "579           552                         Switch                FR   \n",
       "700           636                       Fantômas                FR   \n",
       "711           646                  Les patriotes                FR   \n",
       "868           775            Gardiens de l'ordre                FR   \n",
       "948           842             Parlez-moi de vous                FR   \n",
       "996           886                L'oncle Charles                FR   \n",
       "1353         1230                      Mes héros                FR   \n",
       "2406         2131                Supercondriaque                FR   \n",
       "32120        2681                   Plein soleil                FR   \n",
       "32521        3066            Un illustre inconnu                FR   \n",
       "32530        3074                        Espions                FR   \n",
       "35355        3753  Fantômas contre Scotland Yard                FR   \n",
       "35356        3754           Fantômas se déchaîne                FR   \n",
       "35980        4334                   Arsene Lupin                FR   \n",
       "43258        6602          Gaspard va au mariage                FR   \n",
       "\n",
       "        Country_of_market  Royalties  installation art  superheroes  \\\n",
       "Mama_id                                                               \n",
       "269         United States     826.50               0.0          0.0   \n",
       "546         United States     227.50               0.0          0.0   \n",
       "579         United States    2796.00               0.0          0.0   \n",
       "700         United States     853.50               0.0          0.0   \n",
       "711         United States     153.00               0.0          0.0   \n",
       "868         United States    1130.50               0.0          0.0   \n",
       "948         United States    2021.00               0.0          0.0   \n",
       "996         United States    1392.50               0.0          0.0   \n",
       "1353        United States    1239.00               0.0          0.0   \n",
       "2406        United States     979.74               0.0          0.0   \n",
       "32120       United States     270.20               0.0          0.0   \n",
       "32521       United States    1092.14               0.0          0.0   \n",
       "32530       United States    1912.12               0.0          0.0   \n",
       "35355       United States     338.58               0.0          0.0   \n",
       "35356       United States     514.22               0.0          0.0   \n",
       "35980       United States    3391.32               0.0          0.0   \n",
       "43258       United States    1405.09               0.0          0.0   \n",
       "\n",
       "         Irish conflicts  1990s  spies  ...  frenemies  hot pursuits  \\\n",
       "Mama_id                                 ...                            \n",
       "269                  0.0    0.0    0.0  ...        0.0           0.0   \n",
       "546                  0.0    0.0    0.0  ...        0.0           0.0   \n",
       "579                  0.0    0.0    0.0  ...        0.0          85.0   \n",
       "700                  0.0    0.0    0.0  ...      100.0          60.0   \n",
       "711                  0.0    0.0  100.0  ...        0.0           0.0   \n",
       "868                  0.0    0.0    0.0  ...        0.0           0.0   \n",
       "948                  0.0    0.0    0.0  ...        0.0           0.0   \n",
       "996                  0.0    0.0    0.0  ...        0.0           0.0   \n",
       "1353                 0.0    0.0    0.0  ...        0.0           0.0   \n",
       "2406                 0.0    0.0    0.0  ...        0.0           0.0   \n",
       "32120                0.0    0.0    0.0  ...        0.0           0.0   \n",
       "32521                0.0    0.0    0.0  ...        0.0           0.0   \n",
       "32530                0.0    0.0  100.0  ...        0.0           0.0   \n",
       "35355                0.0    0.0    0.0  ...      100.0          60.0   \n",
       "35356                0.0    0.0    0.0  ...      100.0          60.0   \n",
       "35980                0.0    0.0    0.0  ...        0.0           0.0   \n",
       "43258                0.0    0.0    0.0  ...        0.0           0.0   \n",
       "\n",
       "         live concerts  in the skies  zombies  climbing  \\\n",
       "Mama_id                                                   \n",
       "269                0.0           0.0      0.0       0.0   \n",
       "546                0.0           0.0      0.0       0.0   \n",
       "579                0.0           0.0      0.0       0.0   \n",
       "700                0.0           0.0      0.0       0.0   \n",
       "711                0.0           0.0      0.0       0.0   \n",
       "868                0.0           0.0      0.0       0.0   \n",
       "948                0.0           0.0      0.0       0.0   \n",
       "996                0.0           0.0      0.0       0.0   \n",
       "1353               0.0           0.0      0.0       0.0   \n",
       "2406               0.0           0.0      0.0       0.0   \n",
       "32120              0.0           0.0      0.0       0.0   \n",
       "32521              0.0           0.0      0.0       0.0   \n",
       "32530              0.0           0.0      0.0       0.0   \n",
       "35355              0.0           0.0      0.0       0.0   \n",
       "35356              0.0           0.0      0.0       0.0   \n",
       "35980              0.0           0.0      0.0       0.0   \n",
       "43258              0.0           0.0      0.0       0.0   \n",
       "\n",
       "         American Revolutionary War  looking for a parent  \\\n",
       "Mama_id                                                     \n",
       "269                             0.0                   0.0   \n",
       "546                             0.0                   0.0   \n",
       "579                             0.0                   0.0   \n",
       "700                             0.0                   0.0   \n",
       "711                             0.0                   0.0   \n",
       "868                             0.0                   0.0   \n",
       "948                             0.0                   0.0   \n",
       "996                             0.0                   0.0   \n",
       "1353                            0.0                   0.0   \n",
       "2406                            0.0                   0.0   \n",
       "32120                           0.0                   0.0   \n",
       "32521                           0.0                   0.0   \n",
       "32530                           0.0                   0.0   \n",
       "35355                           0.0                   0.0   \n",
       "35356                           0.0                   0.0   \n",
       "35980                           0.0                   0.0   \n",
       "43258                           0.0                   0.0   \n",
       "\n",
       "         bars and restaurants  Western United States  \n",
       "Mama_id                                               \n",
       "269                       0.0                    0.0  \n",
       "546                       0.0                    0.0  \n",
       "579                       0.0                    0.0  \n",
       "700                       0.0                    0.0  \n",
       "711                       0.0                    0.0  \n",
       "868                       0.0                    0.0  \n",
       "948                       0.0                    0.0  \n",
       "996                       0.0                    0.0  \n",
       "1353                      0.0                    0.0  \n",
       "2406                      0.0                    0.0  \n",
       "32120                     0.0                    0.0  \n",
       "32521                     0.0                    0.0  \n",
       "32530                     0.0                    0.0  \n",
       "35355                     0.0                    0.0  \n",
       "35356                     0.0                    0.0  \n",
       "35980                     0.0                    0.0  \n",
       "43258                     0.0                    0.0  \n",
       "\n",
       "[17 rows x 733 columns]"
      ]
     },
     "execution_count": 93,
     "metadata": {},
     "output_type": "execute_result"
    }
   ],
   "source": [
    "# Query a tag\n",
    "query_tag(df_query, 'false identities')"
   ]
  },
  {
   "cell_type": "code",
   "execution_count": null,
   "metadata": {},
   "outputs": [],
   "source": []
  }
 ],
 "metadata": {
  "kernelspec": {
   "display_name": "Python 3",
   "language": "python",
   "name": "python3"
  },
  "language_info": {
   "codemirror_mode": {
    "name": "ipython",
    "version": 3
   },
   "file_extension": ".py",
   "mimetype": "text/x-python",
   "name": "python",
   "nbconvert_exporter": "python",
   "pygments_lexer": "ipython3",
   "version": "3.7.4"
  }
 },
 "nbformat": 4,
 "nbformat_minor": 2
}
