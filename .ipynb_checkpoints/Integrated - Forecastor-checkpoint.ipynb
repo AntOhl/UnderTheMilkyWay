{
 "cells": [
  {
   "cell_type": "code",
   "execution_count": 31,
   "metadata": {},
   "outputs": [],
   "source": [
    "# Basic operations\n",
    "import numpy as np\n",
    "import pandas as pd\n",
    "\n",
    "# Dashboard\n",
    "import dash\n",
    "import dash_core_components as dcc\n",
    "import dash_html_components as html\n",
    "from dash.dependencies import Input, Output\n",
    "\n",
    "# Plotly\n",
    "import plotly.express as px\n",
    "import plotly.graph_objects as go\n",
    "\n",
    "# Forecast\n",
    "from fbprophet import Prophet\n",
    "\n",
    "# SQL\n",
    "%run -i \"Query_Function.py\"\n",
    "\n",
    "# Disable warnings\n",
    "import warnings\n",
    "warnings.simplefilter(action='ignore', category=Warning)\n",
    "import logging\n",
    "logger = logging.getLogger()\n",
    "logger.setLevel(logging.CRITICAL)"
   ]
  },
  {
   "cell_type": "markdown",
   "metadata": {},
   "source": [
    "# Query data from the remote database\n",
    "\n",
    "## Step 1:\n",
    "* Query a list of all the countries (SQL)\n",
    "* Display the list for user selection (Dash)\n",
    "\n",
    "## Step 2:\n",
    "* Query and save as a dataframe - date, royalties, and movie ID by country (SQL)\n",
    "* Query a table mapping movie titles to movie ID (SQL)\n",
    "* Obtain a list of movies in that particular country (Pandas)\n",
    "* Display the list for user selection (Dash)\n",
    "\n",
    "## Step 3:\n",
    "* Filter out the dataframe by movie id (Pandas)\n",
    "* Pass the dataframe to FP prophet"
   ]
  },
  {
   "cell_type": "code",
   "execution_count": 2,
   "metadata": {},
   "outputs": [],
   "source": [
    "# Query a list of all the countries (SQL)\n",
    "query_1 = '''\n",
    "SELECT DISTINCT country_name AS Country\n",
    "FROM dim_user\n",
    "'''\n",
    "df_countries = data(query_1)\n",
    "df_countries.dropna(axis=0, inplace=True)"
   ]
  },
  {
   "cell_type": "code",
   "execution_count": 3,
   "metadata": {},
   "outputs": [],
   "source": [
    "# Query a table mapping movie titles to movie ID (SQL)\n",
    "query_2 = '''\n",
    "SELECT original_title AS Title, \n",
    "       movie_metadata_id AS Movie_id\n",
    "FROM dim_movie_metadata\n",
    "'''\n",
    "df_titles_to_id = data(query_2)\n",
    "df_titles_to_id.dropna(axis=0, inplace=True)"
   ]
  },
  {
   "cell_type": "code",
   "execution_count": 18,
   "metadata": {},
   "outputs": [],
   "source": [
    "# Query and save as a dataframe - date, royalties, and movie ID by country (SQL)\n",
    "query_3 = '''\n",
    "SELECT d.date_value AS Date,\n",
    "       s.royalties_paid AS Royalties,\n",
    "       s.movie_metadata_id AS Movie_id\n",
    "\n",
    "FROM fact_sales AS s\n",
    "INNER JOIN dim_user as u\n",
    "ON s.user_id = u.user_id\n",
    "AND u.country_name = \"{}\"\n",
    "INNER JOIN dim_date d\n",
    "ON s.download_date_pst_id = d.date_id;\n",
    "'''\n",
    "#df_big = data(query_3.format('France'))"
   ]
  },
  {
   "cell_type": "code",
   "execution_count": null,
   "metadata": {},
   "outputs": [],
   "source": []
  },
  {
   "cell_type": "code",
   "execution_count": null,
   "metadata": {},
   "outputs": [],
   "source": []
  },
  {
   "cell_type": "code",
   "execution_count": null,
   "metadata": {},
   "outputs": [],
   "source": []
  },
  {
   "cell_type": "code",
   "execution_count": null,
   "metadata": {},
   "outputs": [],
   "source": []
  },
  {
   "cell_type": "code",
   "execution_count": 38,
   "metadata": {},
   "outputs": [],
   "source": [
    "# Pass the dataframe to FP prophet\n",
    "\n",
    "# A function to wrap up the forecast\n",
    "def forecast_wrap(data = df_big, movie = 'Requiem for a Dream', h = 3):\n",
    "\n",
    "    # Filter out the dataframe by movie id (Pandas)\n",
    "    movie_id = df_titles_to_id[df_titles_to_id['Title']==movie].iloc[0,1]\n",
    "    df = data[data['Movie_id'] == movie_id]\n",
    "\n",
    "    # Reset the index\n",
    "    df.set_index('Date', inplace=True)\n",
    "    df.sort_index(inplace=True)\n",
    "    df.index = pd.to_datetime(df.index)\n",
    "\n",
    "    # Remove incomplete data from the current month\n",
    "    end_of_last_month = pd.to_datetime('today') + pd.tseries.offsets.MonthEnd(-1)\n",
    "    df = df[:end_of_last_month]\n",
    "\n",
    "    # Make a dataframe for FP prophet\n",
    "    df = df.resample('1M')['Royalties'].sum()\n",
    "    df = df.reset_index()\n",
    "    df.columns = ['ds', 'y']\n",
    "\n",
    "    # Fit the model\n",
    "    # Log transformation to avoid negative predictions\n",
    "    df['y'] = np.log(df['y'] + 1) #Plus 1 to avoid running into 0-revenue months\n",
    "    model = Prophet(seasonality_mode='multiplicative')\n",
    "    model.add_seasonality(name='monthly', period=30.5, fourier_order=5)\n",
    "    model.fit(df)\n",
    "    future = model.make_future_dataframe(periods = h, freq = 'M')\n",
    "    forecast = model.predict(future)\n",
    "    df['y'] = np.exp(df['y']) - 1\n",
    "    forecast['yhat'] = np.exp(forecast['yhat'])\n",
    "    forecast['yhat_upper'] = np.exp(forecast['yhat_upper'])\n",
    "    forecast['yhat_lower'] = np.exp(forecast['yhat_lower'])\n",
    "\n",
    "    # Extract confidence intervals\n",
    "    conf = forecast[['ds','yhat_upper', 'yhat_lower']]\n",
    "    conf = conf.iloc[-h:]\n",
    "    conf = conf.append({'ds':df.iloc[-1,0], \n",
    "                        'yhat_upper':df.iloc[-1,1], \n",
    "                        'yhat_lower':df.iloc[-1,1]}, \n",
    "                        ignore_index=True)\n",
    "    conf = conf.sort_values('ds')\n",
    "\n",
    "    # Put the forecast and factual data into the same dataframe\n",
    "    df['type'] = 'past'\n",
    "\n",
    "    forecast = forecast.iloc[-h:]\n",
    "    forecast = forecast[['ds', 'yhat']]\n",
    "    forecast.columns = ['ds','y']\n",
    "    forecast['type'] = 'forecast'\n",
    "    df = pd.concat([df, forecast],axis=0)\n",
    "\n",
    "    # Round the number down to 2 digits after the decimal points\n",
    "    df['y'] = np.round(df['y'], 2)\n",
    "\n",
    "    # Plot the result\n",
    "    m_past = df['type'] == 'past'\n",
    "    m_fore = df['type'] == 'forecast'\n",
    "\n",
    "    fig = go.Figure()\n",
    "    fig.add_trace(go.Scatter(x=df['ds'][m_past], y=df['y'][m_past], mode='lines', name='past'))\n",
    "    fig.add_trace(go.Scatter(x=df['ds'][m_fore], y=df['y'][m_fore], mode='lines+markers', name='forecast'))\n",
    "    fig.add_trace(go.Scatter(x=[df['ds'][m_past].iloc[-1], df['ds'][m_fore].iloc[0]], \n",
    "                            y=[df['y'][m_past].iloc[-1], df['y'][m_fore].iloc[0]], \n",
    "                            mode='lines', name='forecast', \n",
    "                            hoverinfo='skip', line_color='#ff7f0e', showlegend=False))\n",
    "\n",
    "    # Confidence interval\n",
    "    fig.add_trace(go.Scatter(x=conf['ds'], y=conf['yhat_lower'], \n",
    "                             mode='lines', name='possible range', \n",
    "                             fill=None, line_color='#ff7f0e', opacity=0.1))\n",
    "    fig.add_trace(go.Scatter(x=conf['ds'], y=conf['yhat_upper'], \n",
    "                             mode='lines', name='possible range', \n",
    "                             fill='tonexty', line_color='#ff7f0e', opacity=0.1))\n",
    "\n",
    "    #The line connecting past and forecasted points\n",
    "\n",
    "    fig.update_layout(title='Royalties Forecasting for ' + movie,\n",
    "                    xaxis_title='Year',\n",
    "                    yaxis_title='Royalities (in euros)')\n",
    "    return fig"
   ]
  },
  {
   "cell_type": "code",
   "execution_count": null,
   "metadata": {},
   "outputs": [],
   "source": []
  },
  {
   "cell_type": "code",
   "execution_count": 39,
   "metadata": {},
   "outputs": [
    {
     "name": "stdout",
     "output_type": "stream",
     "text": [
      " * Serving Flask app \"Query_Function\" (lazy loading)\n",
      " * Environment: production\n",
      "   WARNING: This is a development server. Do not use it in a production deployment.\n",
      "   Use a production WSGI server instead.\n",
      " * Debug mode: off\n"
     ]
    },
    {
     "name": "stderr",
     "output_type": "stream",
     "text": [
      "INFO:werkzeug: * Running on http://127.0.0.1:8050/ (Press CTRL+C to quit)\n",
      "INFO:werkzeug:127.0.0.1 - - [01/Feb/2020 20:31:57] \"\u001b[37mGET / HTTP/1.1\u001b[0m\" 200 -\n",
      "INFO:werkzeug:127.0.0.1 - - [01/Feb/2020 20:31:57] \"\u001b[37mGET /_dash-layout HTTP/1.1\u001b[0m\" 200 -\n",
      "INFO:werkzeug:127.0.0.1 - - [01/Feb/2020 20:31:57] \"\u001b[37mGET /_dash-dependencies HTTP/1.1\u001b[0m\" 200 -\n",
      "INFO:werkzeug:127.0.0.1 - - [01/Feb/2020 20:31:57] \"\u001b[1m\u001b[35mPOST /_dash-update-component HTTP/1.1\u001b[0m\" 500 -\n"
     ]
    },
    {
     "name": "stdout",
     "output_type": "stream",
     "text": [
      "None\n"
     ]
    },
    {
     "name": "stderr",
     "output_type": "stream",
     "text": [
      "INFO:werkzeug:127.0.0.1 - - [01/Feb/2020 20:32:05] \"\u001b[37mPOST /_dash-update-component HTTP/1.1\u001b[0m\" 200 -\n",
      "INFO:werkzeug:127.0.0.1 - - [01/Feb/2020 20:32:08] \"\u001b[37mPOST /_dash-update-component HTTP/1.1\u001b[0m\" 200 -\n"
     ]
    },
    {
     "name": "stdout",
     "output_type": "stream",
     "text": [
      "L'affaire Tournesol\n"
     ]
    },
    {
     "name": "stderr",
     "output_type": "stream",
     "text": [
      "INFO:werkzeug:127.0.0.1 - - [01/Feb/2020 20:32:33] \"\u001b[37mPOST /_dash-update-component HTTP/1.1\u001b[0m\" 200 -\n"
     ]
    },
    {
     "name": "stdout",
     "output_type": "stream",
     "text": [
      "El esfuerzo y el ánimo\n"
     ]
    },
    {
     "name": "stderr",
     "output_type": "stream",
     "text": [
      "INFO:werkzeug:127.0.0.1 - - [01/Feb/2020 20:32:39] \"\u001b[37mPOST /_dash-update-component HTTP/1.1\u001b[0m\" 200 -\n"
     ]
    },
    {
     "name": "stdout",
     "output_type": "stream",
     "text": [
      "Gekijô ban Naruto: Shippûden - Kizuna\n"
     ]
    },
    {
     "name": "stderr",
     "output_type": "stream",
     "text": [
      "INFO:werkzeug:127.0.0.1 - - [01/Feb/2020 20:32:46] \"\u001b[37mPOST /_dash-update-component HTTP/1.1\u001b[0m\" 200 -\n"
     ]
    },
    {
     "name": "stdout",
     "output_type": "stream",
     "text": [
      "Kill Speed\n"
     ]
    },
    {
     "name": "stderr",
     "output_type": "stream",
     "text": [
      "INFO:werkzeug:127.0.0.1 - - [01/Feb/2020 20:32:52] \"\u001b[37mPOST /_dash-update-component HTTP/1.1\u001b[0m\" 200 -\n"
     ]
    },
    {
     "name": "stdout",
     "output_type": "stream",
     "text": [
      "La leyenda\n"
     ]
    },
    {
     "name": "stderr",
     "output_type": "stream",
     "text": [
      "INFO:werkzeug:127.0.0.1 - - [01/Feb/2020 20:33:05] \"\u001b[37mPOST /_dash-update-component HTTP/1.1\u001b[0m\" 200 -\n"
     ]
    },
    {
     "name": "stdout",
     "output_type": "stream",
     "text": [
      "Dune\n"
     ]
    },
    {
     "name": "stderr",
     "output_type": "stream",
     "text": [
      "INFO:werkzeug:127.0.0.1 - - [01/Feb/2020 20:33:12] \"\u001b[37mPOST /_dash-update-component HTTP/1.1\u001b[0m\" 200 -\n",
      "INFO:werkzeug:127.0.0.1 - - [01/Feb/2020 20:34:31] \"\u001b[37mPOST /_dash-update-component HTTP/1.1\u001b[0m\" 200 -\n"
     ]
    },
    {
     "name": "stdout",
     "output_type": "stream",
     "text": [
      "Dune\n"
     ]
    },
    {
     "name": "stderr",
     "output_type": "stream",
     "text": [
      "INFO:werkzeug:127.0.0.1 - - [01/Feb/2020 20:34:45] \"\u001b[37mPOST /_dash-update-component HTTP/1.1\u001b[0m\" 200 -\n"
     ]
    }
   ],
   "source": [
    "# Build a dashboard\n",
    "import dash\n",
    "import dash_core_components as dcc\n",
    "import dash_html_components as html\n",
    "from dash.dependencies import Input, Output\n",
    "\n",
    "external_stylesheets = ['https://codepen.io/chriddyp/pen/bWLwgP.css']\n",
    "\n",
    "app = dash.Dash(__name__, external_stylesheets=external_stylesheets)\n",
    "\n",
    "app.layout = html.Div([\n",
    "    \n",
    "    html.Div([\n",
    "    dcc.Dropdown(\n",
    "                id='country',\n",
    "                options=[{'label': i, 'value': i} for i in df_countries['Country'].to_list()],\n",
    "                value='Belgium'\n",
    "            ),\n",
    "    dcc.Dropdown(\n",
    "                id='movie'\n",
    "            ),        \n",
    "    ]),\n",
    "    \n",
    "    dcc.Graph(id='forecast'),\n",
    "\n",
    "])\n",
    "\n",
    "@app.callback(\n",
    "    Output('movie', 'options'),\n",
    "    [Input('country', 'value')])\n",
    "def update_movie_list(country):\n",
    "    # Declare a global variable\n",
    "    global df_big\n",
    "    \n",
    "    df_big = data(query_3.format(country))\n",
    "    df_movie = df_titles_to_id[df_titles_to_id['Movie_id'].isin(df_big['Movie_id'].unique())]\n",
    "    return [{'label': i, 'value': i} for i in df_movie['Title'].to_list()]\n",
    "\n",
    "@app.callback(\n",
    "    Output('forecast', 'figure'),\n",
    "    [Input('movie', 'value')])\n",
    "def update_figure(movie):\n",
    "    # Declare a global variable\n",
    "    global df_big\n",
    "    \n",
    "    return forecast_wrap(df_big, movie)\n",
    "\n",
    "if __name__ == '__main__':\n",
    "    app.run_server(debug=False)"
   ]
  },
  {
   "cell_type": "code",
   "execution_count": null,
   "metadata": {},
   "outputs": [],
   "source": []
  },
  {
   "cell_type": "code",
   "execution_count": null,
   "metadata": {},
   "outputs": [],
   "source": []
  }
 ],
 "metadata": {
  "kernelspec": {
   "display_name": "Python 3",
   "language": "python",
   "name": "python3"
  },
  "language_info": {
   "codemirror_mode": {
    "name": "ipython",
    "version": 3
   },
   "file_extension": ".py",
   "mimetype": "text/x-python",
   "name": "python",
   "nbconvert_exporter": "python",
   "pygments_lexer": "ipython3",
   "version": "3.7.4"
  }
 },
 "nbformat": 4,
 "nbformat_minor": 2
}
