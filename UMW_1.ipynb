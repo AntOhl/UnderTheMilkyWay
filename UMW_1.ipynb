{
 "cells": [
  {
   "cell_type": "code",
   "execution_count": 235,
   "metadata": {},
   "outputs": [],
   "source": [
    "import pandas as pd\n",
    "import os\n",
    "import requests\n",
    "import json\n",
    "import matplotlib.pyplot as plt\n",
    "import re\n",
    "import numpy as np\n",
    "import time"
   ]
  },
  {
   "cell_type": "code",
   "execution_count": 236,
   "metadata": {},
   "outputs": [
    {
     "data": {
      "text/plain": [
       "'/Users/antoineohleyer/Documents/DSBA/UMW/UnderTheMilkyWay'"
      ]
     },
     "execution_count": 236,
     "metadata": {},
     "output_type": "execute_result"
    }
   ],
   "source": [
    "os.getcwd()"
   ]
  },
  {
   "cell_type": "code",
   "execution_count": 3,
   "metadata": {},
   "outputs": [
    {
     "name": "stderr",
     "output_type": "stream",
     "text": [
      "/Users/antoineohleyer/miniconda3/envs/ipseite/lib/python3.7/site-packages/IPython/core/interactiveshell.py:3058: DtypeWarning: Columns (19,20,33,34,35) have mixed types. Specify dtype option on import or set low_memory=False.\n",
      "  interactivity=interactivity, compiler=compiler, result=result)\n"
     ]
    }
   ],
   "source": [
    "df_UMW_IT = pd.read_csv('/Users/antoineohleyer/Big_Data/UMW_IT_reduced.csv')"
   ]
  },
  {
   "cell_type": "code",
   "execution_count": 268,
   "metadata": {},
   "outputs": [],
   "source": [
    "def IMDB_data_from_title(title, year=None):\n",
    "    #The APi is provided by www.omdbapi.com\n",
    "    \n",
    "    url = \"http://www.omdbapi.com/?t={0}&apikey=69ab1e41\".format(title)\n",
    "    \n",
    "    if year != None:\n",
    "        url = url + '&y=' + str(year)\n",
    "    \n",
    "    response = requests.get(url)\n",
    "\n",
    "    res = json.loads(response.text)\n",
    "    print(res['Response'])\n",
    "    #df = pd.DataFrame(res)\n",
    "    return res"
   ]
  },
  {
   "cell_type": "code",
   "execution_count": 256,
   "metadata": {},
   "outputs": [],
   "source": [
    "a = \"100% Cachemire\""
   ]
  },
  {
   "cell_type": "code",
   "execution_count": 270,
   "metadata": {},
   "outputs": [],
   "source": [
    "def IMDB_data_from_list_title(l_titles):\n",
    "    #The APi is provided by www.omdbapi.com\n",
    "    l_json = []\n",
    "    l_movie_not_found = []\n",
    "    \n",
    "    for i, title in enumerate(l_titles):\n",
    "        try:\n",
    "            x = str(i+1) + '/' + str(len(l_titles))\n",
    "            print('{0}'.format(x), end=\"\\r\")\n",
    "            time.sleep(0.5)\n",
    "            url = \"http://www.omdbapi.com/?t={0}&apikey=69ab1e41\".format(title)\n",
    "\n",
    "            response = requests.get(url)\n",
    "            res = json.loads(response.text)\n",
    "            if res['Response'] == 'True':\n",
    "                l_json.append(res)\n",
    "            elif (res['Response'] == 'False') & (res['Error'] == 'Movie not found!'):\n",
    "                l_movie_not_found.append(title)\n",
    "            else:\n",
    "                print('limit reached')\n",
    "                return l_json, l_movie_not_found\n",
    "        except:\n",
    "            print(i, title)\n",
    "            url = \"http://www.omdbapi.com/?t={0}&apikey=69ab1e41\".format(title)\n",
    "            response = requests.get(url)\n",
    "            print(response)\n",
    "            return l_json, l_movie_not_found\n",
    "\n",
    "    return l_json, l_movie_not_found"
   ]
  },
  {
   "cell_type": "markdown",
   "metadata": {},
   "source": [
    "## We launch the API and get which step stop it"
   ]
  },
  {
   "cell_type": "code",
   "execution_count": 271,
   "metadata": {},
   "outputs": [],
   "source": [
    "a = 999 + 1455 + 70 + 870"
   ]
  },
  {
   "cell_type": "code",
   "execution_count": 272,
   "metadata": {},
   "outputs": [
    {
     "name": "stdout",
     "output_type": "stream",
     "text": [
      "304/304\r"
     ]
    }
   ],
   "source": [
    "l_json, l_movie_not_found = IMDB_data_from_list_title(l_api[a:])"
   ]
  },
  {
   "cell_type": "code",
   "execution_count": 265,
   "metadata": {},
   "outputs": [
    {
     "data": {
      "text/plain": [
       "870"
      ]
     },
     "execution_count": 265,
     "metadata": {},
     "output_type": "execute_result"
    }
   ],
   "source": [
    "len(l_json)+len(l_movie_not_found)"
   ]
  },
  {
   "cell_type": "code",
   "execution_count": 258,
   "metadata": {},
   "outputs": [
    {
     "data": {
      "text/plain": [
       "42"
      ]
     },
     "execution_count": 258,
     "metadata": {},
     "output_type": "execute_result"
    }
   ],
   "source": [
    "len(l_json) + len"
   ]
  },
  {
   "cell_type": "code",
   "execution_count": null,
   "metadata": {},
   "outputs": [],
   "source": []
  },
  {
   "cell_type": "code",
   "execution_count": 273,
   "metadata": {},
   "outputs": [],
   "source": [
    "df_movies_found = pd.DataFrame(l_json)\n",
    "df_movies_not_found = pd.DataFrame(l_movie_not_found)\n",
    "df_movies_found.to_csv('movies_imdb_last.csv')\n",
    "df_movies_not_found.to_csv('movies_not_found_imdb_last.csv')"
   ]
  },
  {
   "cell_type": "code",
   "execution_count": 194,
   "metadata": {},
   "outputs": [],
   "source": [
    "a = {'Response': 'False', 'Error': 'Movie not found!'}"
   ]
  },
  {
   "cell_type": "code",
   "execution_count": 195,
   "metadata": {},
   "outputs": [
    {
     "data": {
      "text/plain": [
       "'False'"
      ]
     },
     "execution_count": 195,
     "metadata": {},
     "output_type": "execute_result"
    }
   ],
   "source": [
    "a['Response']"
   ]
  },
  {
   "cell_type": "code",
   "execution_count": 74,
   "metadata": {},
   "outputs": [],
   "source": [
    "IMDB_FR_test = IMDB_FR.copy()"
   ]
  },
  {
   "cell_type": "code",
   "execution_count": 76,
   "metadata": {},
   "outputs": [],
   "source": [
    "IMDB_FR_test.drop_duplicates(inplace=True)"
   ]
  },
  {
   "cell_type": "code",
   "execution_count": 158,
   "metadata": {},
   "outputs": [],
   "source": [
    "IMDB_4.to_csv('imdb_4.csv')"
   ]
  },
  {
   "cell_type": "markdown",
   "metadata": {},
   "source": [
    "## Verification"
   ]
  },
  {
   "cell_type": "code",
   "execution_count": 101,
   "metadata": {},
   "outputs": [],
   "source": [
    "IMDB_data = pd.read_csv('IMDB_data_IT.csv')"
   ]
  },
  {
   "cell_type": "code",
   "execution_count": 109,
   "metadata": {},
   "outputs": [
    {
     "name": "stderr",
     "output_type": "stream",
     "text": [
      "/Users/antoineohleyer/miniconda3/envs/ipseite/lib/python3.7/site-packages/IPython/core/interactiveshell.py:3058: DtypeWarning: Columns (19,20,33,34) have mixed types. Specify dtype option on import or set low_memory=False.\n",
      "  interactivity=interactivity, compiler=compiler, result=result)\n"
     ]
    }
   ],
   "source": [
    "df_UMW_FR = pd.read_csv('/Users/antoineohleyer/Big_Data/UMW_FR_reduced.csv')\n",
    "df_UMW_IT = pd.read_csv('/Users/antoineohleyer/Big_Data/UMW_IT_reduced.csv')\n",
    "df_UMW_ES = pd.read_csv('/Users/antoineohleyer/Big_Data/UMW_ES_reduced.csv')"
   ]
  },
  {
   "cell_type": "code",
   "execution_count": 115,
   "metadata": {},
   "outputs": [],
   "source": [
    "l_UMW_FR = list(df_UMW_FR.original_title.unique())\n",
    "l_UMW_ES = list(df_UMW_ES.original_title.unique())\n",
    "l_UMW_IT = list(df_UMW_IT.original_title.unique())"
   ]
  },
  {
   "cell_type": "code",
   "execution_count": null,
   "metadata": {},
   "outputs": [],
   "source": [
    "l_tot = l_UMW_FR + l_UMW_ES + l_UMW_IT\n",
    "\n",
    "l_api = list(set(l_tot))"
   ]
  },
  {
   "cell_type": "code",
   "execution_count": 122,
   "metadata": {},
   "outputs": [
    {
     "name": "stdout",
     "output_type": "stream",
     "text": [
      "Need to relaunch for  54   West is West\n",
      "Threshold reached\n"
     ]
    }
   ],
   "source": [
    "df_IMDB = IMDB_data_from_list_title(l_api)"
   ]
  },
  {
   "cell_type": "markdown",
   "metadata": {},
   "source": [
    "### IMDB Movies"
   ]
  },
  {
   "cell_type": "code",
   "execution_count": 277,
   "metadata": {},
   "outputs": [
    {
     "name": "stdout",
     "output_type": "stream",
     "text": [
      "movies_imdb_3.csv\n",
      "(42, 27)\n",
      "movies_imdb_2.csv\n",
      "(1014, 27)\n",
      "movies_imdb_1.csv\n",
      "(678, 27)\n",
      "movies_imdb_last.csv\n",
      "(197, 27)\n",
      "movies_imdb_4.csv\n",
      "(605, 27)\n"
     ]
    }
   ],
   "source": [
    "import os, re\n",
    "l_dataframes = []\n",
    "for f in os.listdir('.'):\n",
    "    if re.match('movies_imdb', f):\n",
    "        print(f)\n",
    "        df = pd.read_csv(f)\n",
    "        print(df.shape)\n",
    "        l_dataframes.append(df)"
   ]
  },
  {
   "cell_type": "code",
   "execution_count": 278,
   "metadata": {},
   "outputs": [],
   "source": [
    "full_df = pd.concat(l_dataframes, axis=0)"
   ]
  },
  {
   "cell_type": "code",
   "execution_count": 279,
   "metadata": {},
   "outputs": [
    {
     "data": {
      "text/plain": [
       "(2536, 27)"
      ]
     },
     "execution_count": 279,
     "metadata": {},
     "output_type": "execute_result"
    }
   ],
   "source": [
    "full_df.shape"
   ]
  },
  {
   "cell_type": "code",
   "execution_count": 280,
   "metadata": {},
   "outputs": [],
   "source": [
    "full_df_1 = full_df.drop_duplicates()"
   ]
  },
  {
   "cell_type": "code",
   "execution_count": 281,
   "metadata": {},
   "outputs": [
    {
     "data": {
      "text/plain": [
       "(2536, 27)"
      ]
     },
     "execution_count": 281,
     "metadata": {},
     "output_type": "execute_result"
    }
   ],
   "source": [
    "full_df_1.shape"
   ]
  },
  {
   "cell_type": "code",
   "execution_count": 293,
   "metadata": {},
   "outputs": [],
   "source": [
    "full_df_1.to_csv('IMDB_movies_data.csv')"
   ]
  },
  {
   "cell_type": "markdown",
   "metadata": {},
   "source": [
    "### Movies not found"
   ]
  },
  {
   "cell_type": "code",
   "execution_count": 283,
   "metadata": {
    "scrolled": true
   },
   "outputs": [
    {
     "name": "stdout",
     "output_type": "stream",
     "text": [
      "movies_not_found_imdb_4.csv\n",
      "(265, 2)\n",
      "movies_not_found_imdb_last.csv\n",
      "(107, 2)\n",
      "movies_not_found_imdb_2.csv\n",
      "(441, 2)\n",
      "movies_not_found_imdb_3.csv\n",
      "(28, 2)\n",
      "movies_not_found_imdb_1.csv\n",
      "(322, 2)\n"
     ]
    }
   ],
   "source": [
    "import os, re\n",
    "l_dataframes_not_found = []\n",
    "for f in os.listdir('.'):\n",
    "    if re.match('movies_not_found', f):\n",
    "        print(f)\n",
    "        df = pd.read_csv(f)\n",
    "        print(df.shape)\n",
    "        l_dataframes_not_found.append(df)"
   ]
  },
  {
   "cell_type": "code",
   "execution_count": 284,
   "metadata": {},
   "outputs": [],
   "source": [
    "full_df_not_found = pd.concat(l_dataframes_not_found, axis=0)"
   ]
  },
  {
   "cell_type": "code",
   "execution_count": 285,
   "metadata": {},
   "outputs": [
    {
     "data": {
      "text/plain": [
       "(1163, 2)"
      ]
     },
     "execution_count": 285,
     "metadata": {},
     "output_type": "execute_result"
    }
   ],
   "source": [
    "full_df_not_found.shape"
   ]
  },
  {
   "cell_type": "code",
   "execution_count": 288,
   "metadata": {},
   "outputs": [],
   "source": [
    "full_df_1_not_found = full_df_not_found.drop_duplicates()"
   ]
  },
  {
   "cell_type": "code",
   "execution_count": 289,
   "metadata": {},
   "outputs": [
    {
     "data": {
      "text/plain": [
       "(1163, 2)"
      ]
     },
     "execution_count": 289,
     "metadata": {},
     "output_type": "execute_result"
    }
   ],
   "source": [
    "full_df_1_not_found.shape"
   ]
  },
  {
   "cell_type": "code",
   "execution_count": 290,
   "metadata": {},
   "outputs": [
    {
     "data": {
      "text/plain": [
       "3699"
      ]
     },
     "execution_count": 290,
     "metadata": {},
     "output_type": "execute_result"
    }
   ],
   "source": [
    "full_df_1_not_found.shape[0] + full_df_1.shape[0]"
   ]
  },
  {
   "cell_type": "code",
   "execution_count": 294,
   "metadata": {},
   "outputs": [],
   "source": [
    "full_df_1_not_found.to_csv('IMDB_movies_not_found.csv')"
   ]
  },
  {
   "cell_type": "code",
   "execution_count": null,
   "metadata": {},
   "outputs": [],
   "source": []
  }
 ],
 "metadata": {
  "kernelspec": {
   "display_name": "Python 3",
   "language": "python",
   "name": "python3"
  },
  "language_info": {
   "codemirror_mode": {
    "name": "ipython",
    "version": 3
   },
   "file_extension": ".py",
   "mimetype": "text/x-python",
   "name": "python",
   "nbconvert_exporter": "python",
   "pygments_lexer": "ipython3",
   "version": "3.7.5"
  }
 },
 "nbformat": 4,
 "nbformat_minor": 2
}
