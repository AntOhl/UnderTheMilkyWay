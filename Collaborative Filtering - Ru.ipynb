{
 "cells": [
  {
   "cell_type": "markdown",
   "metadata": {},
   "source": [
    "# 1 Setup"
   ]
  },
  {
   "cell_type": "markdown",
   "metadata": {},
   "source": [
    "# 1.1 Read Packages"
   ]
  },
  {
   "cell_type": "code",
   "execution_count": 166,
   "metadata": {},
   "outputs": [],
   "source": [
    "import pandas as pd\n",
    "import numpy as np\n",
    "\n",
    "from lightfm import LightFM\n",
    "from lightfm.evaluation import auc_score, precision_at_k, recall_at_k\n",
    "from lightfm.cross_validation import random_train_test_split\n",
    "from scipy import sparse, linalg\n",
    "\n",
    "import matplotlib.pyplot as plt\n",
    "import seaborn as sns\n",
    "from sklearn.cluster import KMeans\n",
    "from sklearn.manifold import TSNE"
   ]
  },
  {
   "cell_type": "markdown",
   "metadata": {},
   "source": [
    "# 1.2 Read Data"
   ]
  },
  {
   "cell_type": "code",
   "execution_count": 167,
   "metadata": {},
   "outputs": [],
   "source": [
    "df_FR = pd.read_csv('UMW_FR_reduced.csv', usecols = ['source', 'country_name', 'mama_movie_id', 'original_title'])\n",
    "df_IT = pd.read_csv('UMW_IT_reduced.csv', usecols = ['source', 'country_name', 'mama_movie_id', 'original_title'])\n",
    "df_ES = pd.read_csv('UMW_ES_reduced.csv', usecols = ['source', 'country_name', 'mama_movie_id', 'original_title'])"
   ]
  },
  {
   "cell_type": "markdown",
   "metadata": {},
   "source": [
    "# 2 Data Preprocessing"
   ]
  },
  {
   "cell_type": "markdown",
   "metadata": {},
   "source": [
    "# 2.1 Build Matrix A and M\n",
    "Here each platform is a row in A"
   ]
  },
  {
   "cell_type": "code",
   "execution_count": 168,
   "metadata": {},
   "outputs": [],
   "source": [
    "#Drop na and concatenate all the tables together\n",
    "dfs_list = []\n",
    "for d in [df_FR, df_IT, df_ES]:\n",
    "    d['source'] = d['source'] + '_' + d['country_name']\n",
    "    temp = d[['source', 'mama_movie_id']].dropna()\n",
    "    temp['mama_movie_id'] = temp['mama_movie_id'].astype(int)\n",
    "    dfs_list.append(temp)\n",
    "\n",
    "df = pd.concat(dfs_list, axis=0)"
   ]
  },
  {
   "cell_type": "code",
   "execution_count": 169,
   "metadata": {},
   "outputs": [],
   "source": [
    "#Create the sparse matrix\n",
    "df['count'] = 1\n",
    "df = pd.pivot_table(df, values='count', index=['source'], columns=['mama_movie_id'], aggfunc=np.sum, fill_value=0)\n",
    "A = sparse.coo_matrix(df.values)"
   ]
  },
  {
   "cell_type": "code",
   "execution_count": 170,
   "metadata": {},
   "outputs": [],
   "source": [
    "#Get the map between mama ids and original titles\n",
    "dfs_list = []\n",
    "for d in [df_FR, df_IT, df_ES]:\n",
    "    temp = d[['original_title', 'mama_movie_id']].dropna()\n",
    "    temp['mama_movie_id'] = temp['mama_movie_id'].astype(int)\n",
    "    dfs_list.append(temp)\n",
    "id_to_title = pd.concat(dfs_list, axis=0)\n",
    "id_to_title = id_to_title.set_index('mama_movie_id').to_dict()['original_title']"
   ]
  },
  {
   "cell_type": "code",
   "execution_count": null,
   "metadata": {},
   "outputs": [],
   "source": []
  },
  {
   "cell_type": "markdown",
   "metadata": {},
   "source": [
    "# 2.2 Facts About A"
   ]
  },
  {
   "cell_type": "code",
   "execution_count": 151,
   "metadata": {},
   "outputs": [
    {
     "data": {
      "image/png": "[encoded data removed]",
      "text/plain": [
       "<Figure size 1440x720 with 1 Axes>"
      ]
     },
     "metadata": {
      "needs_background": "light"
     },
     "output_type": "display_data"
    }
   ],
   "source": [
    "data = np.sum(A, axis=1)\n",
    "fig, ax = plt.subplots(ncols=1, figsize=[20,10])\n",
    "\n",
    "#The distribution of the number of movies watched by each user\n",
    "g = sns.distplot(data, bins=100, ax=ax)"
   ]
  },
  {
   "cell_type": "markdown",
   "metadata": {},
   "source": [
    "# 3 Collabrative Filtering"
   ]
  },
  {
   "cell_type": "markdown",
   "metadata": {},
   "source": [
    "# 3.1 Modeling"
   ]
  },
  {
   "cell_type": "code",
   "execution_count": 171,
   "metadata": {},
   "outputs": [],
   "source": [
    "model = LightFM(loss='warp', no_components=5, k=5)"
   ]
  },
  {
   "cell_type": "markdown",
   "metadata": {},
   "source": [
    "# 3.2 Cross Validation"
   ]
  },
  {
   "cell_type": "code",
   "execution_count": 154,
   "metadata": {},
   "outputs": [],
   "source": [
    "train, test = random_train_test_split(A, test_percentage=0.3)"
   ]
  },
  {
   "cell_type": "code",
   "execution_count": 155,
   "metadata": {},
   "outputs": [
    {
     "data": {
      "text/plain": [
       "<lightfm.lightfm.LightFM at 0x22637defdc8>"
      ]
     },
     "execution_count": 155,
     "metadata": {},
     "output_type": "execute_result"
    }
   ],
   "source": [
    "model.fit(train, epochs=3000, num_threads=8)"
   ]
  },
  {
   "cell_type": "code",
   "execution_count": 156,
   "metadata": {},
   "outputs": [
    {
     "name": "stdout",
     "output_type": "stream",
     "text": [
      "train_auc:  0.9984471\n",
      "test_auc:  0.7404461\n"
     ]
    }
   ],
   "source": [
    "train_auc = auc_score(model, train).mean()\n",
    "test_auc = auc_score(model, test).mean()\n",
    "print('train_auc: ', train_auc)\n",
    "print('test_auc: ', test_auc)"
   ]
  },
  {
   "cell_type": "code",
   "execution_count": 157,
   "metadata": {},
   "outputs": [
    {
     "name": "stdout",
     "output_type": "stream",
     "text": [
      "train_precision:  0.63571435\n",
      "test_precision:  0.016\n"
     ]
    }
   ],
   "source": [
    "#Precision measures, if you select k movies for each customer in the test set, \n",
    "#the number of correctedly identified movies / k\n",
    "\n",
    "train_precision = precision_at_k(model, train, k=5).mean()\n",
    "test_precision = precision_at_k(model, test, k=5).mean()\n",
    "print('train_precision: ', train_precision)\n",
    "print('test_precision: ', test_precision)"
   ]
  },
  {
   "cell_type": "code",
   "execution_count": 158,
   "metadata": {},
   "outputs": [
    {
     "name": "stdout",
     "output_type": "stream",
     "text": [
      "train_recall:  0.15246827824235737\n",
      "test_recall:  0.04181818181818182\n"
     ]
    }
   ],
   "source": [
    "#Recall measures, if you select k movies for each customer in the test set, \n",
    "#the number of correctedly identified movies / the number of movies that a customer has watched\n",
    "\n",
    "train_recall = recall_at_k(model, train, k=5).mean()\n",
    "test_recall = recall_at_k(model, test, k=5).mean()\n",
    "print('train_recall: ', train_recall)\n",
    "print('test_recall: ', test_recall)"
   ]
  },
  {
   "cell_type": "markdown",
   "metadata": {},
   "source": [
    "# 3.3 Model Training"
   ]
  },
  {
   "cell_type": "code",
   "execution_count": 172,
   "metadata": {},
   "outputs": [
    {
     "data": {
      "text/plain": [
       "<lightfm.lightfm.LightFM at 0x22617d58608>"
      ]
     },
     "execution_count": 172,
     "metadata": {},
     "output_type": "execute_result"
    }
   ],
   "source": [
    "model.fit(A, epochs=3000, num_threads=8)"
   ]
  },
  {
   "cell_type": "markdown",
   "metadata": {},
   "source": [
    "# 3.4 Customer Vectors and Movie Vectors"
   ]
  },
  {
   "cell_type": "code",
   "execution_count": 173,
   "metadata": {},
   "outputs": [],
   "source": [
    "C_b, C = model.get_user_representations()\n",
    "M_b, M = model.get_item_representations()"
   ]
  },
  {
   "cell_type": "markdown",
   "metadata": {},
   "source": [
    "# 3.5 Predictions\n",
    "Attention: for now I have not filtered out movies that have already been on the platform yet."
   ]
  },
  {
   "cell_type": "code",
   "execution_count": 174,
   "metadata": {},
   "outputs": [],
   "source": [
    "def recommendation(model, data, top_n=5):\n",
    "    n_users, n_items = data.shape\n",
    "    temp = np.zeros([n_users, top_n])\n",
    "    for i in np.arange(n_users):\n",
    "        scores = model.predict(i, np.arange(n_items))\n",
    "        top_items = data.columns[np.argsort(-scores)][:top_n]\n",
    "        temp[i,:] = top_items\n",
    "    temp = pd.DataFrame(temp, dtype=int)\n",
    "    temp.columns = ['Top_' + str(c+1) for c in temp.columns]\n",
    "    temp = temp.replace(id_to_title)\n",
    "    \n",
    "    result = pd.DataFrame({'source_country': df.index})\n",
    "    result = pd.concat([result, temp], axis = 1)\n",
    "    \n",
    "    return result"
   ]
  },
  {
   "cell_type": "code",
   "execution_count": null,
   "metadata": {},
   "outputs": [],
   "source": []
  },
  {
   "cell_type": "code",
   "execution_count": 175,
   "metadata": {},
   "outputs": [
    {
     "data": {
      "text/html": [
       "<div>\n",
       "<style scoped>\n",
       "    .dataframe tbody tr th:only-of-type {\n",
       "        vertical-align: middle;\n",
       "    }\n",
       "\n",
       "    .dataframe tbody tr th {\n",
       "        vertical-align: top;\n",
       "    }\n",
       "\n",
       "    .dataframe thead th {\n",
       "        text-align: right;\n",
       "    }\n",
       "</style>\n",
       "<table border=\"1\" class=\"dataframe\">\n",
       "  <thead>\n",
       "    <tr style=\"text-align: right;\">\n",
       "      <th></th>\n",
       "      <th>source_country</th>\n",
       "      <th>Top_1</th>\n",
       "      <th>Top_2</th>\n",
       "      <th>Top_3</th>\n",
       "      <th>Top_4</th>\n",
       "      <th>Top_5</th>\n",
       "    </tr>\n",
       "  </thead>\n",
       "  <tbody>\n",
       "    <tr>\n",
       "      <td>0</td>\n",
       "      <td>arte_France</td>\n",
       "      <td>The Escort</td>\n",
       "      <td>Ferrari 312B: Where the revolution begins</td>\n",
       "      <td>Prank</td>\n",
       "      <td>Mala Mala</td>\n",
       "      <td>To mikro psari</td>\n",
       "    </tr>\n",
       "    <tr>\n",
       "      <td>1</td>\n",
       "      <td>canal vod_France</td>\n",
       "      <td>Goodbye World</td>\n",
       "      <td>Moonwalkers</td>\n",
       "      <td>The Escort</td>\n",
       "      <td>Les Pee-Wee 3D: L'hiver qui a changé ma vie</td>\n",
       "      <td>Love and Honor</td>\n",
       "    </tr>\n",
       "    <tr>\n",
       "      <td>2</td>\n",
       "      <td>filmin_Spain</td>\n",
       "      <td>Le magasin des suicides</td>\n",
       "      <td>The Escort</td>\n",
       "      <td>Nicht mein Tag</td>\n",
       "      <td>Lou! Journal infime</td>\n",
       "      <td>Je compte sur vous</td>\n",
       "    </tr>\n",
       "    <tr>\n",
       "      <td>3</td>\n",
       "      <td>google_France</td>\n",
       "      <td>Goodbye World</td>\n",
       "      <td>Moonwalkers</td>\n",
       "      <td>Three Night Stand</td>\n",
       "      <td>The Loner</td>\n",
       "      <td>Free Ride</td>\n",
       "    </tr>\n",
       "    <tr>\n",
       "      <td>4</td>\n",
       "      <td>google_Italy</td>\n",
       "      <td>Ferrari 312B: Where the revolution begins</td>\n",
       "      <td>Extremely Wicked, Shockingly Evil and Vile</td>\n",
       "      <td>The Last Prosecco</td>\n",
       "      <td>The Program</td>\n",
       "      <td>La belle et la bÃªte</td>\n",
       "    </tr>\n",
       "    <tr>\n",
       "      <td>5</td>\n",
       "      <td>google_Spain</td>\n",
       "      <td>Dalida</td>\n",
       "      <td>Papa ou Maman 2</td>\n",
       "      <td>Ange et Gabrielle</td>\n",
       "      <td>Koza</td>\n",
       "      <td>Wallay</td>\n",
       "    </tr>\n",
       "    <tr>\n",
       "      <td>6</td>\n",
       "      <td>itunes_France</td>\n",
       "      <td>La Reina de España</td>\n",
       "      <td>Tapis rouge</td>\n",
       "      <td>Literally, Right Before Aaron</td>\n",
       "      <td>Bad Match</td>\n",
       "      <td>The Case for Christ</td>\n",
       "    </tr>\n",
       "    <tr>\n",
       "      <td>7</td>\n",
       "      <td>itunes_Italy</td>\n",
       "      <td>Les derniers parisiens</td>\n",
       "      <td>Noces</td>\n",
       "      <td>Swagger</td>\n",
       "      <td>Fleuve noir</td>\n",
       "      <td>Ni juge, ni soumise</td>\n",
       "    </tr>\n",
       "    <tr>\n",
       "      <td>8</td>\n",
       "      <td>itunes_Spain</td>\n",
       "      <td>Dalida</td>\n",
       "      <td>10x10</td>\n",
       "      <td>First Kill</td>\n",
       "      <td>Acts of Violence</td>\n",
       "      <td>Dark Crimes</td>\n",
       "    </tr>\n",
       "    <tr>\n",
       "      <td>9</td>\n",
       "      <td>microsoft_France</td>\n",
       "      <td>Moonwalkers</td>\n",
       "      <td>Goodbye World</td>\n",
       "      <td>Les Pee-Wee 3D: L'hiver qui a changé ma vie</td>\n",
       "      <td>Almost Friends</td>\n",
       "      <td>Love and Honor</td>\n",
       "    </tr>\n",
       "    <tr>\n",
       "      <td>10</td>\n",
       "      <td>microsoft_Italy</td>\n",
       "      <td>Tamara</td>\n",
       "      <td>The Haunting of Sharon Tate</td>\n",
       "      <td>La belle et la bÃªte</td>\n",
       "      <td>Riddick</td>\n",
       "      <td>Avengement</td>\n",
       "    </tr>\n",
       "    <tr>\n",
       "      <td>11</td>\n",
       "      <td>microsoft_Spain</td>\n",
       "      <td>Les derniers parisiens</td>\n",
       "      <td>C'est arrivé près de chez vous</td>\n",
       "      <td>Texas Killing Fields</td>\n",
       "      <td>Crash Test Aglaé</td>\n",
       "      <td>The Call Up</td>\n",
       "    </tr>\n",
       "    <tr>\n",
       "      <td>12</td>\n",
       "      <td>movistar_Spain</td>\n",
       "      <td>The Escort</td>\n",
       "      <td>Tiger House</td>\n",
       "      <td>Nicht mein Tag</td>\n",
       "      <td>Love and Honor</td>\n",
       "      <td>Goodbye World</td>\n",
       "    </tr>\n",
       "    <tr>\n",
       "      <td>13</td>\n",
       "      <td>mytf1_France</td>\n",
       "      <td>Tiger House</td>\n",
       "      <td>Love and Honor</td>\n",
       "      <td>Goodbye World</td>\n",
       "      <td>Nicht mein Tag</td>\n",
       "      <td>Moonwalkers</td>\n",
       "    </tr>\n",
       "    <tr>\n",
       "      <td>14</td>\n",
       "      <td>orange_France</td>\n",
       "      <td>The Case for Christ</td>\n",
       "      <td>The Girl in the Book</td>\n",
       "      <td>Un vrai faussaire</td>\n",
       "      <td>La Reina de España</td>\n",
       "      <td>Almost Friends</td>\n",
       "    </tr>\n",
       "    <tr>\n",
       "      <td>15</td>\n",
       "      <td>pantaflix_France</td>\n",
       "      <td>Les derniers parisiens</td>\n",
       "      <td>The Escort</td>\n",
       "      <td>Prank</td>\n",
       "      <td>The Benefactor</td>\n",
       "      <td>To mikro psari</td>\n",
       "    </tr>\n",
       "    <tr>\n",
       "      <td>16</td>\n",
       "      <td>pantaflix_Italy</td>\n",
       "      <td>Democracy: Im Rausch der Daten</td>\n",
       "      <td>Les derniers parisiens</td>\n",
       "      <td>La Fuga: Girl in Flight</td>\n",
       "      <td>La soledad</td>\n",
       "      <td>Ferrari 312B: Where the revolution begins</td>\n",
       "    </tr>\n",
       "    <tr>\n",
       "      <td>17</td>\n",
       "      <td>pantaflix_Spain</td>\n",
       "      <td>C'est arrivé près de chez vous</td>\n",
       "      <td>Les derniers parisiens</td>\n",
       "      <td>Auf Einmal</td>\n",
       "      <td>Nicht mein Tag</td>\n",
       "      <td>Le magasin des suicides</td>\n",
       "    </tr>\n",
       "    <tr>\n",
       "      <td>18</td>\n",
       "      <td>rakuten_France</td>\n",
       "      <td>The Case for Christ</td>\n",
       "      <td>The Girl in the Book</td>\n",
       "      <td>Tiger House</td>\n",
       "      <td>Almost Friends</td>\n",
       "      <td>Un vrai faussaire</td>\n",
       "    </tr>\n",
       "    <tr>\n",
       "      <td>19</td>\n",
       "      <td>rakuten_Italy</td>\n",
       "      <td>Charming</td>\n",
       "      <td>Dior and I</td>\n",
       "      <td>Dawson Isla 10</td>\n",
       "      <td>Fiksiki: Bolshoy sekret</td>\n",
       "      <td>Hodja fra Pjort</td>\n",
       "    </tr>\n",
       "    <tr>\n",
       "      <td>20</td>\n",
       "      <td>rakuten_Spain</td>\n",
       "      <td>Fiksiki: Bolshoy sekret</td>\n",
       "      <td>Frog Kingdom</td>\n",
       "      <td>The Frog Kingdom 2: Sub-Zero Mission</td>\n",
       "      <td>Hodja fra Pjort</td>\n",
       "      <td>Ploey - You Never Fly Alone (Lói: Þú Flýgur Al...</td>\n",
       "    </tr>\n",
       "    <tr>\n",
       "      <td>21</td>\n",
       "      <td>sony_France</td>\n",
       "      <td>Le ciel étoilé au-dessus de ma tête</td>\n",
       "      <td>Vurdalaki</td>\n",
       "      <td>Literally, Right Before Aaron</td>\n",
       "      <td>Little Boy</td>\n",
       "      <td>Kung Fury</td>\n",
       "    </tr>\n",
       "    <tr>\n",
       "      <td>22</td>\n",
       "      <td>sony_Italy</td>\n",
       "      <td>The Lazarus Effect</td>\n",
       "      <td>En mai, fais ce qu'il te plaÃ®t</td>\n",
       "      <td>Under Sandet</td>\n",
       "      <td>Manhattan Nocturne</td>\n",
       "      <td>The Imitation Game</td>\n",
       "    </tr>\n",
       "    <tr>\n",
       "      <td>23</td>\n",
       "      <td>sony_Spain</td>\n",
       "      <td>The Escort</td>\n",
       "      <td>Beneath The Harvest Sky</td>\n",
       "      <td>Dalida</td>\n",
       "      <td>Hacker's game</td>\n",
       "      <td>Maikäfer flieg</td>\n",
       "    </tr>\n",
       "    <tr>\n",
       "      <td>24</td>\n",
       "      <td>universciné_France</td>\n",
       "      <td>Effekt Domina</td>\n",
       "      <td>The Arbiter</td>\n",
       "      <td>La voz dormida</td>\n",
       "      <td>Papusza</td>\n",
       "      <td>Glück</td>\n",
       "    </tr>\n",
       "    <tr>\n",
       "      <td>25</td>\n",
       "      <td>vimeo_France</td>\n",
       "      <td>The Escort</td>\n",
       "      <td>Nicht mein Tag</td>\n",
       "      <td>Goodbye World</td>\n",
       "      <td>Love and Honor</td>\n",
       "      <td>Tiger House</td>\n",
       "    </tr>\n",
       "    <tr>\n",
       "      <td>26</td>\n",
       "      <td>vimeo_Italy</td>\n",
       "      <td>Ferrari 312B: Where the revolution begins</td>\n",
       "      <td>The Escort</td>\n",
       "      <td>Mala Mala</td>\n",
       "      <td>Pojkarna</td>\n",
       "      <td>Wa-shoku: Beyond Sushi</td>\n",
       "    </tr>\n",
       "    <tr>\n",
       "      <td>27</td>\n",
       "      <td>vimeo_Spain</td>\n",
       "      <td>The Escort</td>\n",
       "      <td>Tiger House</td>\n",
       "      <td>Beneath The Harvest Sky</td>\n",
       "      <td>To mikro psari</td>\n",
       "      <td>Prank</td>\n",
       "    </tr>\n",
       "    <tr>\n",
       "      <td>28</td>\n",
       "      <td>vod factory_France</td>\n",
       "      <td>Les Pee-Wee 3D: L'hiver qui a changé ma vie</td>\n",
       "      <td>Moonwalkers</td>\n",
       "      <td>Goodbye World</td>\n",
       "      <td>Almost Friends</td>\n",
       "      <td>Un vrai faussaire</td>\n",
       "    </tr>\n",
       "  </tbody>\n",
       "</table>\n",
       "</div>"
      ],
      "text/plain": [
       "        source_country                                        Top_1  \\\n",
       "0          arte_France                                   The Escort   \n",
       "1     canal vod_France                                Goodbye World   \n",
       "2         filmin_Spain                      Le magasin des suicides   \n",
       "3        google_France                                Goodbye World   \n",
       "4         google_Italy    Ferrari 312B: Where the revolution begins   \n",
       "5         google_Spain                                       Dalida   \n",
       "6        itunes_France                           La Reina de España   \n",
       "7         itunes_Italy                       Les derniers parisiens   \n",
       "8         itunes_Spain                                       Dalida   \n",
       "9     microsoft_France                                  Moonwalkers   \n",
       "10     microsoft_Italy                                       Tamara   \n",
       "11     microsoft_Spain                       Les derniers parisiens   \n",
       "12      movistar_Spain                                   The Escort   \n",
       "13        mytf1_France                                  Tiger House   \n",
       "14       orange_France                          The Case for Christ   \n",
       "15    pantaflix_France                       Les derniers parisiens   \n",
       "16     pantaflix_Italy               Democracy: Im Rausch der Daten   \n",
       "17     pantaflix_Spain               C'est arrivé près de chez vous   \n",
       "18      rakuten_France                          The Case for Christ   \n",
       "19       rakuten_Italy                                     Charming   \n",
       "20       rakuten_Spain                      Fiksiki: Bolshoy sekret   \n",
       "21         sony_France          Le ciel étoilé au-dessus de ma tête   \n",
       "22          sony_Italy                           The Lazarus Effect   \n",
       "23          sony_Spain                                   The Escort   \n",
       "24  universciné_France                                Effekt Domina   \n",
       "25        vimeo_France                                   The Escort   \n",
       "26         vimeo_Italy    Ferrari 312B: Where the revolution begins   \n",
       "27         vimeo_Spain                                   The Escort   \n",
       "28  vod factory_France  Les Pee-Wee 3D: L'hiver qui a changé ma vie   \n",
       "\n",
       "                                         Top_2  \\\n",
       "0    Ferrari 312B: Where the revolution begins   \n",
       "1                                  Moonwalkers   \n",
       "2                                   The Escort   \n",
       "3                                  Moonwalkers   \n",
       "4   Extremely Wicked, Shockingly Evil and Vile   \n",
       "5                              Papa ou Maman 2   \n",
       "6                                  Tapis rouge   \n",
       "7                                        Noces   \n",
       "8                                        10x10   \n",
       "9                                Goodbye World   \n",
       "10                 The Haunting of Sharon Tate   \n",
       "11              C'est arrivé près de chez vous   \n",
       "12                                 Tiger House   \n",
       "13                              Love and Honor   \n",
       "14                        The Girl in the Book   \n",
       "15                                  The Escort   \n",
       "16                      Les derniers parisiens   \n",
       "17                      Les derniers parisiens   \n",
       "18                        The Girl in the Book   \n",
       "19                                  Dior and I   \n",
       "20                                Frog Kingdom   \n",
       "21                                   Vurdalaki   \n",
       "22             En mai, fais ce qu'il te plaÃ®t   \n",
       "23                     Beneath The Harvest Sky   \n",
       "24                                 The Arbiter   \n",
       "25                              Nicht mein Tag   \n",
       "26                                  The Escort   \n",
       "27                                 Tiger House   \n",
       "28                                 Moonwalkers   \n",
       "\n",
       "                                          Top_3  \\\n",
       "0                                         Prank   \n",
       "1                                    The Escort   \n",
       "2                                Nicht mein Tag   \n",
       "3                             Three Night Stand   \n",
       "4                             The Last Prosecco   \n",
       "5                             Ange et Gabrielle   \n",
       "6                 Literally, Right Before Aaron   \n",
       "7                                       Swagger   \n",
       "8                                    First Kill   \n",
       "9   Les Pee-Wee 3D: L'hiver qui a changé ma vie   \n",
       "10                         La belle et la bÃªte   \n",
       "11                         Texas Killing Fields   \n",
       "12                               Nicht mein Tag   \n",
       "13                                Goodbye World   \n",
       "14                            Un vrai faussaire   \n",
       "15                                        Prank   \n",
       "16                      La Fuga: Girl in Flight   \n",
       "17                                   Auf Einmal   \n",
       "18                                  Tiger House   \n",
       "19                               Dawson Isla 10   \n",
       "20         The Frog Kingdom 2: Sub-Zero Mission   \n",
       "21                Literally, Right Before Aaron   \n",
       "22                                 Under Sandet   \n",
       "23                                       Dalida   \n",
       "24                               La voz dormida   \n",
       "25                                Goodbye World   \n",
       "26                                    Mala Mala   \n",
       "27                      Beneath The Harvest Sky   \n",
       "28                                Goodbye World   \n",
       "\n",
       "                                          Top_4  \\\n",
       "0                                     Mala Mala   \n",
       "1   Les Pee-Wee 3D: L'hiver qui a changé ma vie   \n",
       "2                           Lou! Journal infime   \n",
       "3                                     The Loner   \n",
       "4                                   The Program   \n",
       "5                                          Koza   \n",
       "6                                     Bad Match   \n",
       "7                                   Fleuve noir   \n",
       "8                              Acts of Violence   \n",
       "9                                Almost Friends   \n",
       "10                                      Riddick   \n",
       "11                             Crash Test Aglaé   \n",
       "12                               Love and Honor   \n",
       "13                               Nicht mein Tag   \n",
       "14                           La Reina de España   \n",
       "15                               The Benefactor   \n",
       "16                                   La soledad   \n",
       "17                               Nicht mein Tag   \n",
       "18                               Almost Friends   \n",
       "19                      Fiksiki: Bolshoy sekret   \n",
       "20                              Hodja fra Pjort   \n",
       "21                                   Little Boy   \n",
       "22                           Manhattan Nocturne   \n",
       "23                                Hacker's game   \n",
       "24                                      Papusza   \n",
       "25                               Love and Honor   \n",
       "26                                     Pojkarna   \n",
       "27                               To mikro psari   \n",
       "28                               Almost Friends   \n",
       "\n",
       "                                                Top_5  \n",
       "0                                      To mikro psari  \n",
       "1                                      Love and Honor  \n",
       "2                                  Je compte sur vous  \n",
       "3                                           Free Ride  \n",
       "4                                La belle et la bÃªte  \n",
       "5                                              Wallay  \n",
       "6                                 The Case for Christ  \n",
       "7                                 Ni juge, ni soumise  \n",
       "8                                         Dark Crimes  \n",
       "9                                      Love and Honor  \n",
       "10                                         Avengement  \n",
       "11                                        The Call Up  \n",
       "12                                      Goodbye World  \n",
       "13                                        Moonwalkers  \n",
       "14                                     Almost Friends  \n",
       "15                                     To mikro psari  \n",
       "16          Ferrari 312B: Where the revolution begins  \n",
       "17                            Le magasin des suicides  \n",
       "18                                  Un vrai faussaire  \n",
       "19                                    Hodja fra Pjort  \n",
       "20  Ploey - You Never Fly Alone (Lói: Þú Flýgur Al...  \n",
       "21                                          Kung Fury  \n",
       "22                                 The Imitation Game  \n",
       "23                                     Maikäfer flieg  \n",
       "24                                              Glück  \n",
       "25                                        Tiger House  \n",
       "26                             Wa-shoku: Beyond Sushi  \n",
       "27                                              Prank  \n",
       "28                                  Un vrai faussaire  "
      ]
     },
     "execution_count": 175,
     "metadata": {},
     "output_type": "execute_result"
    }
   ],
   "source": [
    "recommendation(model, df, top_n=5)"
   ]
  },
  {
   "cell_type": "code",
   "execution_count": null,
   "metadata": {},
   "outputs": [],
   "source": []
  },
  {
   "cell_type": "code",
   "execution_count": 161,
   "metadata": {},
   "outputs": [],
   "source": []
  },
  {
   "cell_type": "code",
   "execution_count": null,
   "metadata": {},
   "outputs": [],
   "source": []
  },
  {
   "cell_type": "code",
   "execution_count": null,
   "metadata": {},
   "outputs": [],
   "source": []
  },
  {
   "cell_type": "code",
   "execution_count": null,
   "metadata": {},
   "outputs": [],
   "source": []
  },
  {
   "cell_type": "code",
   "execution_count": null,
   "metadata": {},
   "outputs": [],
   "source": []
  },
  {
   "cell_type": "code",
   "execution_count": null,
   "metadata": {},
   "outputs": [],
   "source": []
  },
  {
   "cell_type": "code",
   "execution_count": null,
   "metadata": {},
   "outputs": [],
   "source": []
  }
 ],
 "metadata": {
  "kernelspec": {
   "display_name": "Python 3",
   "language": "python",
   "name": "python3"
  },
  "language_info": {
   "codemirror_mode": {
    "name": "ipython",
    "version": 3
   },
   "file_extension": ".py",
   "mimetype": "text/x-python",
   "name": "python",
   "nbconvert_exporter": "python",
   "pygments_lexer": "ipython3",
   "version": "3.7.4"
  }
 },
 "nbformat": 4,
 "nbformat_minor": 2
}
