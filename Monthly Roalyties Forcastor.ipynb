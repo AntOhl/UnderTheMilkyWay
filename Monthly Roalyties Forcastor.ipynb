{
 "cells": [
  {
   "cell_type": "markdown",
   "metadata": {},
   "source": [
    "# What to do next:\n",
    "## Modeling\n",
    "### CV the performance\n",
    "### Add a dummy variable for December ~\n",
    "### Prevent the forecast from falling below 0 ~\n",
    "### Train an AR 1 as a baseline\n",
    "\n",
    "## Layout\n",
    "### Retext the plot"
   ]
  },
  {
   "cell_type": "code",
   "execution_count": null,
   "metadata": {},
   "outputs": [],
   "source": [
    "# Basic operations\n",
    "import numpy as np\n",
    "import pandas as pd\n",
    "\n",
    "# Dashboard\n",
    "import dash\n",
    "import dash_core_components as dcc\n",
    "import dash_html_components as html\n",
    "from dash.dependencies import Input, Output\n",
    "\n",
    "# Plotly\n",
    "import plotly.express as px\n",
    "import plotly.graph_objects as go\n",
    "\n",
    "# Forecast\n",
    "from fbprophet import Prophet\n",
    "\n",
    "# Other tools\n",
    "import logging\n",
    "logger = logging.getLogger()\n",
    "logger.setLevel(logging.CRITICAL)\n",
    "import concurrent"
   ]
  },
  {
   "cell_type": "code",
   "execution_count": null,
   "metadata": {},
   "outputs": [],
   "source": [
    "# Load Data\n",
    "data = {}\n",
    "data['fr'] = pd.read_csv(\"UMW_FR_reduced.csv\", sep=\",\", parse_dates=['date_value'], index_col=['date_value'])\n",
    "data['it'] = pd.read_csv(\"UMW_IT_reduced.csv\", sep=\",\", parse_dates=['date_value'], index_col=['date_value'])\n",
    "data['es'] = pd.read_csv(\"UMW_ES_reduced.csv\", sep=\",\", parse_dates=['date_value'], index_col=['date_value'])"
   ]
  },
  {
   "cell_type": "code",
   "execution_count": null,
   "metadata": {},
   "outputs": [],
   "source": [
    "# Options\n",
    "country = 'fr'\n",
    "movie = 'Li Xiao Long' #'Requiem for a Dream'\n",
    "h = 3 # set the forecast horizen to 6 months"
   ]
  },
  {
   "cell_type": "code",
   "execution_count": null,
   "metadata": {},
   "outputs": [],
   "source": [
    "# Extract data\n",
    "df = data[country]\n",
    "df = df[df['original_title'] == movie]"
   ]
  },
  {
   "cell_type": "code",
   "execution_count": null,
   "metadata": {},
   "outputs": [],
   "source": [
    "# Remove the incomplete data in November\n",
    "df = df[:'2019-10-31']\n",
    "\n",
    "# Resample data on a monthly basis\n",
    "df = df.resample('1M')['royalties_paid_eur'].sum()\n",
    "df = df.reset_index()\n",
    "df.columns = ['ds', 'y']"
   ]
  },
  {
   "cell_type": "code",
   "execution_count": null,
   "metadata": {},
   "outputs": [],
   "source": [
    "# Fit the model\n",
    "# Log transformation to avoid negative predictions\n",
    "df['y'] = np.log(df['y'] + 1) #Plus 1 to avoid running into 0-revenue months\n",
    "model = Prophet(seasonality_mode='multiplicative')\n",
    "model.add_seasonality(name='monthly', period=30.5, fourier_order=5)\n",
    "model.fit(df)\n",
    "future = model.make_future_dataframe(periods = h, freq = 'M')\n",
    "forecast = model.predict(future)\n",
    "df['y'] = np.exp(df['y'])\n",
    "forecast['yhat'] = np.exp(forecast['yhat'])"
   ]
  },
  {
   "cell_type": "code",
   "execution_count": null,
   "metadata": {},
   "outputs": [],
   "source": [
    "# Put the forecast and factual data into the same dataframe\n",
    "df['type'] = 'past'\n",
    "\n",
    "forecast = forecast.iloc[-h:]\n",
    "forecast = forecast[['ds', 'yhat']]\n",
    "forecast.columns = ['ds','y']\n",
    "forecast['type'] = 'forecast'\n",
    "df = pd.concat([df, forecast],axis=0)\n",
    "\n",
    "# Round the number down to 2 digits after the decimal points\n",
    "df['y'] = np.round(df['y'], 2)"
   ]
  },
  {
   "cell_type": "code",
   "execution_count": null,
   "metadata": {},
   "outputs": [],
   "source": [
    "# Plot the result\n",
    "m_past = df['type'] == 'past'\n",
    "m_fore = df['type'] == 'forecast'\n",
    "\n",
    "fig = go.Figure()\n",
    "fig.add_trace(go.Scatter(x=df['ds'][m_past], y=df['y'][m_past], mode='lines', name='past'))\n",
    "fig.add_trace(go.Scatter(x=df['ds'][m_fore], y=df['y'][m_fore], mode='lines+markers', name='forecast'))\n",
    "fig.add_trace(go.Scatter(x=[df['ds'][m_past].iloc[-1], df['ds'][m_fore].iloc[0]], \n",
    "                         y=[df['y'][m_past].iloc[-1], df['y'][m_fore].iloc[0]], \n",
    "                         mode='lines', name='forecast', \n",
    "                         hoverinfo='skip', line_color='#ff7f0e', showlegend=False))\n",
    "#The line connecting past and forecasted points\n",
    "\n",
    "fig.update_layout(title='Royalties Forecasting for ' + movie,\n",
    "                  xaxis_title='Year',\n",
    "                  yaxis_title='Royalities (in euros)')\n",
    "\n",
    "fig.show()"
   ]
  },
  {
   "cell_type": "code",
   "execution_count": null,
   "metadata": {},
   "outputs": [],
   "source": []
  },
  {
   "cell_type": "markdown",
   "metadata": {},
   "source": [
    "# Cross Validation"
   ]
  },
  {
   "cell_type": "code",
   "execution_count": null,
   "metadata": {},
   "outputs": [],
   "source": [
    "# A funtion to CV the n-month-ahead forecast a movie with at least 6 months of revenue data\n",
    "# Input: country, movie, number of steps\n",
    "# Output: mean-absolute-error of the predictions\n",
    "def CV_fp(country, movie, h):\n",
    "    # Extract data\n",
    "    df = data[country]\n",
    "    df = df[df['original_title'] == movie]\n",
    "\n",
    "    # Remove the incomplete data in November\n",
    "    df = df[:'2019-10-31']\n",
    "\n",
    "    # Resample data on a monthly basis\n",
    "    df = df.resample('1M')['royalties_paid_eur'].sum()\n",
    "    df = df.reset_index()\n",
    "    df.columns = ['ds', 'y']\n",
    "    \n",
    "    #! If a movie has fewer than 6 months of data, output None\n",
    "    if df.shape[0]<6:\n",
    "        return None\n",
    "    \n",
    "    #! Remove the last h months\n",
    "    df_real = df.iloc[-h:]\n",
    "    df = df.iloc[:-h]\n",
    "\n",
    "    # Fit the model\n",
    "    # Log transformation to avoid negative predictions\n",
    "    df['y'] = np.log(df['y'] + 1)\n",
    "    model = Prophet(seasonality_mode='multiplicative')\n",
    "    model.add_seasonality(name='monthly', period=30.5, fourier_order=5)\n",
    "    model.fit(df)\n",
    "    future = model.make_future_dataframe(periods = h, freq = 'M')\n",
    "    forecast = model.predict(future)\n",
    "    df['y'] = np.exp(df['y'])\n",
    "    forecast['yhat'] = np.exp(forecast['yhat'])\n",
    "    \n",
    "    #! Extract the forecast\n",
    "    forecast = forecast.iloc[-h:]\n",
    "    \n",
    "    #! Return MAE\n",
    "    loss = np.mean(np.abs(forecast['yhat'] - df_real['y']))\n",
    "    \n",
    "    return loss"
   ]
  },
  {
   "cell_type": "code",
   "execution_count": null,
   "metadata": {},
   "outputs": [],
   "source": [
    "# A funtion to go through movies using multi-threads\n",
    "# Input: a CV funtion\n",
    "# Output: MAE acrsoss all the movies\n",
    "def CV_run(f):\n",
    "    res = pd.DataFrame(columns=['country', 'movie', 'loss']) # Base Table\n",
    "    \n",
    "    def helper(country):\n",
    "        temp = data[country]\n",
    "        temp = temp['original_title'].unique() # A list of movies inside that country\n",
    "        res_sub = pd.DataFrame(columns=['country', 'movie', 'loss'])\n",
    "        for movie in temp[:2]: # TEST\n",
    "            loss = f(country, movie, h)\n",
    "            res_sub = res_sub.append({'country':country, 'movie':movie, 'loss':loss}, ignore_index=True)\n",
    "            \n",
    "            #Display and save the progress\n",
    "            if res_sub.shape[0] % 1 == 0: # TEST\n",
    "                print('Progress', country, res_sub.shape[0], '/', temp.shape[0])\n",
    "                res_sub.to_csv(country + '.csv')\n",
    "        return res_sub\n",
    "    \n",
    "    with concurrent.futures.ThreadPoolExecutor() as executor:\n",
    "        res_subs = executor.map(helper, countries)\n",
    "    \n",
    "    for res_sub in res_subs:\n",
    "        res = res.append(res_sub)\n",
    "    return res"
   ]
  },
  {
   "cell_type": "code",
   "execution_count": null,
   "metadata": {},
   "outputs": [],
   "source": [
    "res=CV_run(CV_fp)"
   ]
  },
  {
   "cell_type": "code",
   "execution_count": null,
   "metadata": {},
   "outputs": [],
   "source": []
  },
  {
   "cell_type": "code",
   "execution_count": null,
   "metadata": {},
   "outputs": [],
   "source": []
  },
  {
   "cell_type": "code",
   "execution_count": null,
   "metadata": {},
   "outputs": [],
   "source": []
  },
  {
   "cell_type": "code",
   "execution_count": null,
   "metadata": {},
   "outputs": [],
   "source": []
  },
  {
   "cell_type": "markdown",
   "metadata": {},
   "source": [
    "# Dashboard"
   ]
  },
  {
   "cell_type": "code",
   "execution_count": 6,
   "metadata": {},
   "outputs": [],
   "source": [
    "# A function to wrap up the forecast\n",
    "def forecast_wrap(country = 'fr', movie = 'Requiem for a Dream', h = 3):\n",
    "    # Extract data\n",
    "    df = data[country]\n",
    "    df = df[df['original_title'] == movie]\n",
    "    \n",
    "    # Remove the incomplete data in November\n",
    "    df = df[:'2019-10-31']\n",
    "\n",
    "    # Resample data on a monthly basis\n",
    "    df = df.resample('1M')['royalties_paid_eur'].sum()\n",
    "    df = df.reset_index()\n",
    "    df.columns = ['ds', 'y']\n",
    "    \n",
    "    # Fit the model\n",
    "    # Log transformation to avoid negative predictions\n",
    "    df['y'] = np.log(df['y'] + 1) #Plus 1 to avoid running into 0-revenue months\n",
    "    model = Prophet(seasonality_mode='multiplicative')\n",
    "    model.add_seasonality(name='monthly', period=30.5, fourier_order=5)\n",
    "    model.fit(df)\n",
    "    future = model.make_future_dataframe(periods = h, freq = 'M')\n",
    "    forecast = model.predict(future)\n",
    "    df['y'] = np.exp(df['y'])\n",
    "    forecast['yhat'] = np.exp(forecast['yhat'])\n",
    "\n",
    "    # Put the forecast and factual data into the same dataframe\n",
    "    df['type'] = 'past'\n",
    "\n",
    "    forecast = forecast.iloc[-h:]\n",
    "    forecast = forecast[['ds', 'yhat']]\n",
    "    forecast.columns = ['ds','y']\n",
    "    forecast['type'] = 'forecast'\n",
    "    df = pd.concat([df, forecast],axis=0)\n",
    "\n",
    "    # Round the number down to 2 digits after the decimal points\n",
    "    df['y'] = np.round(df['y'], 2)\n",
    "\n",
    "    # Plot the result\n",
    "    m_past = df['type'] == 'past'\n",
    "    m_fore = df['type'] == 'forecast'\n",
    "\n",
    "    fig = go.Figure()\n",
    "    fig.add_trace(go.Scatter(x=df['ds'][m_past], y=df['y'][m_past], mode='lines', name='past'))\n",
    "    fig.add_trace(go.Scatter(x=df['ds'][m_fore], y=df['y'][m_fore], mode='lines+markers', name='forecast'))\n",
    "    fig.add_trace(go.Scatter(x=[df['ds'][m_past].iloc[-1], df['ds'][m_fore].iloc[0]], \n",
    "                             y=[df['y'][m_past].iloc[-1], df['y'][m_fore].iloc[0]], \n",
    "                             mode='lines', name='forecast', \n",
    "                             hoverinfo='skip', line_color='#ff7f0e', showlegend=False))\n",
    "    #The line connecting past and forecasted points\n",
    "\n",
    "    fig.update_layout(title='Royalties Forecasting for ' + movie,\n",
    "                      xaxis_title='Year',\n",
    "                      yaxis_title='Royalities (in euros)')\n",
    "    \n",
    "    return fig"
   ]
  },
  {
   "cell_type": "code",
   "execution_count": null,
   "metadata": {},
   "outputs": [],
   "source": []
  },
  {
   "cell_type": "code",
   "execution_count": null,
   "metadata": {},
   "outputs": [],
   "source": []
  },
  {
   "cell_type": "code",
   "execution_count": 3,
   "metadata": {},
   "outputs": [],
   "source": [
    "countries = ['fr', 'es', 'it']"
   ]
  },
  {
   "cell_type": "code",
   "execution_count": null,
   "metadata": {},
   "outputs": [
    {
     "name": "stdout",
     "output_type": "stream",
     "text": [
      " * Serving Flask app \"__main__\" (lazy loading)\n",
      " * Environment: production\n",
      "   WARNING: This is a development server. Do not use it in a production deployment.\n",
      "   Use a production WSGI server instead.\n",
      " * Debug mode: off\n"
     ]
    },
    {
     "name": "stderr",
     "output_type": "stream",
     "text": [
      "INFO:werkzeug: * Running on http://127.0.0.1:8050/ (Press CTRL+C to quit)\n",
      "INFO:werkzeug:127.0.0.1 - - [22/Jan/2020 10:46:32] \"\u001b[37mGET / HTTP/1.1\u001b[0m\" 200 -\n",
      "INFO:werkzeug:127.0.0.1 - - [22/Jan/2020 10:46:32] \"\u001b[37mGET /_dash-dependencies HTTP/1.1\u001b[0m\" 200 -\n",
      "INFO:werkzeug:127.0.0.1 - - [22/Jan/2020 10:46:32] \"\u001b[37mGET /_dash-layout HTTP/1.1\u001b[0m\" 200 -\n",
      "INFO:werkzeug:127.0.0.1 - - [22/Jan/2020 10:46:33] \"\u001b[37mPOST /_dash-update-component HTTP/1.1\u001b[0m\" 200 -\n",
      "INFO:werkzeug:127.0.0.1 - - [22/Jan/2020 10:46:33] \"\u001b[1m\u001b[35mPOST /_dash-update-component HTTP/1.1\u001b[0m\" 500 -\n",
      "INFO:werkzeug:127.0.0.1 - - [22/Jan/2020 10:46:41] \"\u001b[37mPOST /_dash-update-component HTTP/1.1\u001b[0m\" 200 -\n"
     ]
    }
   ],
   "source": [
    "# Build a dashboard\n",
    "import dash\n",
    "import dash_core_components as dcc\n",
    "import dash_html_components as html\n",
    "from dash.dependencies import Input, Output\n",
    "\n",
    "external_stylesheets = ['https://codepen.io/chriddyp/pen/bWLwgP.css']\n",
    "\n",
    "app = dash.Dash(__name__, external_stylesheets=external_stylesheets)\n",
    "\n",
    "app.layout = html.Div([\n",
    "    \n",
    "    html.Div([\n",
    "    dcc.Dropdown(\n",
    "                id='country',\n",
    "                options=[{'label': i, 'value': i} for i in countries],\n",
    "                value='fr'\n",
    "            ),\n",
    "    dcc.Dropdown(\n",
    "                id='movie'\n",
    "            ),        \n",
    "    ]),\n",
    "    \n",
    "    dcc.Graph(id='forecast'),\n",
    "\n",
    "])\n",
    "\n",
    "@app.callback(\n",
    "    Output('movie', 'options'),\n",
    "    [Input('country', 'value')])\n",
    "def update_movie_list(country):\n",
    "    temp = data[country]\n",
    "    temp = temp['original_title'].unique()\n",
    "    return [{'label': i, 'value': i} for i in temp]\n",
    "\n",
    "@app.callback(\n",
    "    Output('forecast', 'figure'),\n",
    "    [Input('country', 'value'),\n",
    "     Input('movie', 'value')])\n",
    "def update_figure(country, movie):\n",
    "    return forecast_wrap(country, movie)\n",
    "\n",
    "if __name__ == '__main__':\n",
    "    app.run_server(debug=False)"
   ]
  },
  {
   "cell_type": "code",
   "execution_count": null,
   "metadata": {},
   "outputs": [],
   "source": []
  }
 ],
 "metadata": {
  "kernelspec": {
   "display_name": "Python 3",
   "language": "python",
   "name": "python3"
  },
  "language_info": {
   "codemirror_mode": {
    "name": "ipython",
    "version": 3
   },
   "file_extension": ".py",
   "mimetype": "text/x-python",
   "name": "python",
   "nbconvert_exporter": "python",
   "pygments_lexer": "ipython3",
   "version": "3.7.4"
  }
 },
 "nbformat": 4,
 "nbformat_minor": 2
}
