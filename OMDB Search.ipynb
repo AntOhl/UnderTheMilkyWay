{
 "cells": [
  {
   "cell_type": "code",
   "execution_count": 17,
   "metadata": {
    "collapsed": true
   },
   "outputs": [
    {
     "data": {
      "text/plain": [
       "{'Title': 'Les trois mousquetaires',\n",
       " 'Year': '1959',\n",
       " 'Rated': 'N/A',\n",
       " 'Released': 'N/A',\n",
       " 'Runtime': 'N/A',\n",
       " 'Genre': 'N/A',\n",
       " 'Director': 'Claude Barma',\n",
       " 'Writer': 'Alexandre Dumas (novel)',\n",
       " 'Actors': 'Jean-Paul Belmondo, René Alone, Jean-Claude Arnaud, Pierre Asso',\n",
       " 'Plot': 'N/A',\n",
       " 'Language': 'French',\n",
       " 'Country': 'France',\n",
       " 'Awards': 'N/A',\n",
       " 'Poster': 'https://m.media-amazon.com/images/M/MV5BNGZkZDBiOWQtOWU2ZS00OGFkLWIwMmUtY2ExOTgxNzYzN2E0XkEyXkFqcGdeQXVyMzYyNjE5NDY@._V1_SX300.jpg',\n",
       " 'Ratings': [{'Source': 'Internet Movie Database', 'Value': '6.1/10'}],\n",
       " 'Metascore': 'N/A',\n",
       " 'imdbRating': '6.1',\n",
       " 'imdbVotes': '37',\n",
       " 'imdbID': 'tt0220119',\n",
       " 'Type': 'movie',\n",
       " 'DVD': 'N/A',\n",
       " 'BoxOffice': 'N/A',\n",
       " 'Production': 'N/A',\n",
       " 'Website': 'N/A',\n",
       " 'Response': 'True'}"
      ]
     },
     "execution_count": 17,
     "metadata": {},
     "output_type": "execute_result"
    }
   ],
   "source": [
    "import requests\n",
    "import json\n",
    "    \n",
    "def search_by_title(title, year=None):\n",
    "    #The APi is provided by www.omdbapi.com\n",
    "    \n",
    "    url = \"http://www.omdbapi.com/?t={0}&apikey=9adcf453\".format(title)\n",
    "    \n",
    "    if year != None:\n",
    "        url = url + '&y=' + str(year)\n",
    "    \n",
    "    response = requests.get(url)\n",
    "\n",
    "    res = json.loads(response.text)\n",
    "    return res\n",
    "\n",
    "\n",
    "search_by_title('Les trois mousquetaires')"
   ]
  },
  {
   "cell_type": "code",
   "execution_count": 20,
   "metadata": {
    "collapsed": true
   },
   "outputs": [
    {
     "data": {
      "text/plain": [
       "{'Title': 'Star Wars: Episode IV - A New Hope',\n",
       " 'Year': '1977',\n",
       " 'Rated': 'PG',\n",
       " 'Released': '25 May 1977',\n",
       " 'Runtime': '121 min',\n",
       " 'Genre': 'Action, Adventure, Fantasy, Sci-Fi',\n",
       " 'Director': 'George Lucas',\n",
       " 'Writer': 'George Lucas',\n",
       " 'Actors': 'Mark Hamill, Harrison Ford, Carrie Fisher, Peter Cushing',\n",
       " 'Plot': \"Luke Skywalker joins forces with a Jedi Knight, a cocky pilot, a Wookiee and two droids to save the galaxy from the Empire's world-destroying battle station, while also attempting to rescue Princess Leia from the mysterious Darth Vader.\",\n",
       " 'Language': 'English',\n",
       " 'Country': 'USA',\n",
       " 'Awards': 'Won 6 Oscars. Another 50 wins & 28 nominations.',\n",
       " 'Poster': 'https://m.media-amazon.com/images/M/MV5BNzVlY2MwMjktM2E4OS00Y2Y3LWE3ZjctYzhkZGM3YzA1ZWM2XkEyXkFqcGdeQXVyNzkwMjQ5NzM@._V1_SX300.jpg',\n",
       " 'Ratings': [{'Source': 'Internet Movie Database', 'Value': '8.6/10'},\n",
       "  {'Source': 'Rotten Tomatoes', 'Value': '93%'},\n",
       "  {'Source': 'Metacritic', 'Value': '90/100'}],\n",
       " 'Metascore': '90',\n",
       " 'imdbRating': '8.6',\n",
       " 'imdbVotes': '1,143,909',\n",
       " 'imdbID': 'tt0076759',\n",
       " 'Type': 'movie',\n",
       " 'DVD': '21 Sep 2004',\n",
       " 'BoxOffice': 'N/A',\n",
       " 'Production': '20th Century Fox',\n",
       " 'Website': 'N/A',\n",
       " 'Response': 'True'}"
      ]
     },
     "execution_count": 20,
     "metadata": {},
     "output_type": "execute_result"
    }
   ],
   "source": [
    "search_by_title('Star Wars')"
   ]
  },
  {
   "cell_type": "code",
   "execution_count": null,
   "metadata": {},
   "outputs": [],
   "source": []
  }
 ],
 "metadata": {
  "kernelspec": {
   "display_name": "Python 3",
   "language": "python",
   "name": "python3"
  },
  "language_info": {
   "codemirror_mode": {
    "name": "ipython",
    "version": 3
   },
   "file_extension": ".py",
   "mimetype": "text/x-python",
   "name": "python",
   "nbconvert_exporter": "python",
   "pygments_lexer": "ipython3",
   "version": "3.7.3"
  }
 },
 "nbformat": 4,
 "nbformat_minor": 2
}
